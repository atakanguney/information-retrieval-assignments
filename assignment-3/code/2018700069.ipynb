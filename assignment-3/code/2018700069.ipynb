{
 "cells": [
  {
   "cell_type": "code",
   "execution_count": 1,
   "metadata": {
    "ExecuteTime": {
     "end_time": "2019-05-05T19:15:11.472539Z",
     "start_time": "2019-05-05T19:15:11.325639Z"
    }
   },
   "outputs": [],
   "source": [
    "import os\n",
    "import pickle\n",
    "import re\n",
    "import random\n",
    "\n",
    "from collections import Counter\n",
    "from math import log\n",
    "from operator import itemgetter\n",
    "\n",
    "import numpy as np\n",
    "try:\n",
    "    from rouge import Rouge\n",
    "except:\n",
    "    !pip install rouge\n",
    "    from rouge import Rouge"
   ]
  },
  {
   "cell_type": "code",
   "execution_count": 2,
   "metadata": {
    "ExecuteTime": {
     "end_time": "2019-05-05T19:15:11.478851Z",
     "start_time": "2019-05-05T19:15:11.475661Z"
    }
   },
   "outputs": [],
   "source": [
    "random.seed(58)"
   ]
  },
  {
   "cell_type": "code",
   "execution_count": 3,
   "metadata": {
    "ExecuteTime": {
     "end_time": "2019-05-05T19:15:11.484655Z",
     "start_time": "2019-05-05T19:15:11.481727Z"
    }
   },
   "outputs": [],
   "source": [
    "VECTOR_PATH = '../glove.6B.200d.pkl'\n",
    "ARTICLES_PATH = '../articles/'\n",
    "GOLD_SUMMARIES_PATH = '../gold_summaries/'"
   ]
  },
  {
   "cell_type": "code",
   "execution_count": 4,
   "metadata": {
    "ExecuteTime": {
     "end_time": "2019-05-05T19:15:11.493729Z",
     "start_time": "2019-05-05T19:15:11.486763Z"
    }
   },
   "outputs": [],
   "source": [
    "def read_documents(doc_folder):\n",
    "    \"\"\"Read documents\n",
    "    \n",
    "    Read documents in the given `doc_folder`\n",
    "    \n",
    "    Parameters\n",
    "    ----------\n",
    "    doc_folder: str\n",
    "        Document folder path\n",
    "        \n",
    "    Returns\n",
    "    -------\n",
    "    list\n",
    "        Documents\n",
    "    \"\"\"\n",
    "    article_names = os.listdir(doc_folder)\n",
    "    article_names.sort()\n",
    "    \n",
    "    documents = []\n",
    "\n",
    "    for article_name in article_names:\n",
    "        path = os.path.join(doc_folder, article_name)\n",
    "        with open(path, \"rb\") as f:\n",
    "            try:\n",
    "                doc = f.read().decode(\"utf-8\")\n",
    "            except UnicodeDecodeError as e:\n",
    "                print(article_name, \" has unknown encoding\")\n",
    "                raise e\n",
    "        documents.append(doc)\n",
    "\n",
    "    return documents"
   ]
  },
  {
   "cell_type": "code",
   "execution_count": 5,
   "metadata": {
    "ExecuteTime": {
     "end_time": "2019-05-05T19:15:11.500923Z",
     "start_time": "2019-05-05T19:15:11.496338Z"
    }
   },
   "outputs": [],
   "source": [
    "def parse_document_to_sentence(doc):\n",
    "    \"\"\"Parse document to sentences\n",
    "    \n",
    "    This parser assumes every sentence begins with upper-case or digit and\n",
    "    ends with ., ..., ?, ! or whitespace and after each sentence there \n",
    "    must be a whitespace.\n",
    "    \n",
    "    Parameters\n",
    "    ----------\n",
    "    doc: str\n",
    "        Document string to parse\n",
    "        \n",
    "    Returns\n",
    "    -------\n",
    "    list\n",
    "        Sentences\n",
    "    \"\"\"\n",
    "    pat = re.compile(r\"([A-Z0-9].*?)[\\.?!\\s]+\\s\", re.MULTILINE | re.DOTALL)\n",
    "    \n",
    "    return pat.findall(doc)"
   ]
  },
  {
   "cell_type": "code",
   "execution_count": 6,
   "metadata": {
    "ExecuteTime": {
     "end_time": "2019-05-05T19:15:11.506099Z",
     "start_time": "2019-05-05T19:15:11.502812Z"
    }
   },
   "outputs": [],
   "source": [
    "def tokenize(doc):\n",
    "    \"\"\"Tokenization Function\n",
    "    \n",
    "    Parameters\n",
    "    ----------\n",
    "    doc: str\n",
    "        String to tokenize\n",
    "        \n",
    "    Returns\n",
    "    -------\n",
    "    list\n",
    "        List of tokens\n",
    "    \"\"\"\n",
    "    return doc.lower().split()"
   ]
  },
  {
   "cell_type": "code",
   "execution_count": 7,
   "metadata": {
    "ExecuteTime": {
     "end_time": "2019-05-05T19:15:11.512052Z",
     "start_time": "2019-05-05T19:15:11.507866Z"
    }
   },
   "outputs": [],
   "source": [
    "def parse_documents_to_sentences(documents):\n",
    "    \"\"\"Parse documents\n",
    "\n",
    "    Extract sentences for given `documents`\n",
    "\n",
    "    Parameters\n",
    "    ----------\n",
    "    documents: list\n",
    "        List of documents\n",
    "\n",
    "    Returns\n",
    "    -------\n",
    "    list\n",
    "        Documents parsed to their sentences as numpy array\n",
    "    \"\"\"\n",
    "    return [np.array(parse_document_to_sentence(doc)) for doc in documents]"
   ]
  },
  {
   "cell_type": "code",
   "execution_count": 8,
   "metadata": {
    "ExecuteTime": {
     "end_time": "2019-05-05T19:15:11.517791Z",
     "start_time": "2019-05-05T19:15:11.514223Z"
    }
   },
   "outputs": [],
   "source": [
    "def tokenize_sentences(articles_as_sentences):\n",
    "    \"\"\"Tokenize All Articles\n",
    "    \n",
    "    Parameters\n",
    "    ----------\n",
    "    articles_as_sentences: list\n",
    "        List of List of sentences\n",
    "        \n",
    "    Returns\n",
    "    -------\n",
    "    list\n",
    "        List of list of tokenized sentences\n",
    "    \"\"\"\n",
    "    \n",
    "    return [[tokenize(sent) for sent in doc] for doc in articles_as_sentences]"
   ]
  },
  {
   "cell_type": "code",
   "execution_count": 9,
   "metadata": {
    "ExecuteTime": {
     "end_time": "2019-05-05T19:15:11.524593Z",
     "start_time": "2019-05-05T19:15:11.519740Z"
    }
   },
   "outputs": [],
   "source": [
    "def tfidf_weights(idf_dict, tokens):\n",
    "    \"\"\"Compute Tf-IDF weights\n",
    "    \n",
    "    For given idf_dict and sentence as `token`\n",
    "    calculates tf-idf scores\n",
    "    \n",
    "    Parameters\n",
    "    ----------\n",
    "    idf_dict: dict\n",
    "        Dictionary of idf scores\n",
    "        \n",
    "    tokens: list\n",
    "        List of tokens represents a sentence\n",
    "        \n",
    "    Returns\n",
    "    -------\n",
    "    dict\n",
    "        Dictionary of tf-idf scores\n",
    "    \"\"\"\n",
    "    cnt_dict = Counter(tokens)\n",
    "    \n",
    "    for word, cnt in cnt_dict.items():\n",
    "        if word in idf_dict:\n",
    "            cnt_dict[word] = cnt * idf_dict[word]\n",
    "            \n",
    "    return cnt_dict"
   ]
  },
  {
   "cell_type": "code",
   "execution_count": 10,
   "metadata": {
    "ExecuteTime": {
     "end_time": "2019-05-05T19:15:11.534330Z",
     "start_time": "2019-05-05T19:15:11.527884Z"
    }
   },
   "outputs": [],
   "source": [
    "def sent2vec(sent, word2vec, idf_dict=None):\n",
    "    \"\"\"Sentence to vector\n",
    "    \n",
    "    Transform plain sentence to its vector representation\n",
    "    \n",
    "    Parameters\n",
    "    ----------\n",
    "    sent: str\n",
    "        Sentence\n",
    "    word2vec: dict\n",
    "        Word vectors\n",
    "    idf_dict: dict\n",
    "        Pre-calculated idf scores\n",
    "\n",
    "    Returns\n",
    "    -------\n",
    "    numpy.ndarray\n",
    "        Vector representation of sentence\n",
    "    \"\"\"\n",
    "\n",
    "    words = set(sent)\n",
    "    \n",
    "    if idf_dict:\n",
    "        weights = tfidf_weights(idf_dict, sent)\n",
    "    else:\n",
    "        weights = {\n",
    "            word: 1\n",
    "            for word in words\n",
    "        }\n",
    "    \n",
    "    return np.mean(\n",
    "        [\n",
    "            np.array(word2vec[word]) * weights[word] if word in word2vec\n",
    "            else np.array(word2vec[\"unk\"]) * weights[word]\n",
    "            for word in words\n",
    "        ],\n",
    "        axis=0,\n",
    "    )"
   ]
  },
  {
   "cell_type": "code",
   "execution_count": 11,
   "metadata": {
    "ExecuteTime": {
     "end_time": "2019-05-05T19:15:11.542941Z",
     "start_time": "2019-05-05T19:15:11.538572Z"
    }
   },
   "outputs": [],
   "source": [
    "def article2sentvecs(sentences, word2vec, idf_dict=None):\n",
    "    \"\"\"Converts Article to Sentence Vectors\n",
    "    \n",
    "    Compute each sentence vector as a function of word vectors\n",
    "    \n",
    "    Parameters\n",
    "    ----------\n",
    "    sentences: list\n",
    "        List of sentences of article\n",
    "    \n",
    "    word2vec: dict\n",
    "        Word vector dictionary\n",
    "    \n",
    "    idf_dict: dict\n",
    "        Pre-calculated idf scores\n",
    "        \n",
    "    Returns\n",
    "    -------\n",
    "    numpy.ndarray\n",
    "        Article as sentence vectors\n",
    "    \"\"\"\n",
    "\n",
    "    return np.array([sent2vec(sent, word2vec, idf_dict) for sent in sentences])"
   ]
  },
  {
   "cell_type": "code",
   "execution_count": 12,
   "metadata": {
    "ExecuteTime": {
     "end_time": "2019-05-05T19:15:11.551685Z",
     "start_time": "2019-05-05T19:15:11.546388Z"
    }
   },
   "outputs": [],
   "source": [
    "def all_articles2sentvecs(docs_by_sentences, word2vec, idf_dicts=None):\n",
    "    \"\"\"Articles to sentence vectors\n",
    "\n",
    "    Convert sentences of documents to vectors\n",
    "\n",
    "    Parameters\n",
    "    ----------\n",
    "    docs_by_sentences: list\n",
    "        List of list of sentences\n",
    "\n",
    "    word2vec: dict\n",
    "        Word vectors\n",
    "        \n",
    "    idf_dicts: list\n",
    "        List of pre-calculated idf scores\n",
    "\n",
    "    Returns\n",
    "    -------\n",
    "    list\n",
    "        List of numpy.array, each numpy.array is document representation by its sentences\n",
    "    \"\"\"\n",
    "\n",
    "    if idf_dicts:\n",
    "        return [article2sentvecs(doc, word2vec, idf_dict) for doc, idf_dict in zip(docs_by_sentences, idf_dicts)]\n",
    "    else:\n",
    "        return [article2sentvecs(doc, word2vec) for doc in docs_by_sentences]"
   ]
  },
  {
   "cell_type": "code",
   "execution_count": 13,
   "metadata": {
    "ExecuteTime": {
     "end_time": "2019-05-05T19:15:11.560201Z",
     "start_time": "2019-05-05T19:15:11.553815Z"
    }
   },
   "outputs": [],
   "source": [
    "def idf_scores(corpus):\n",
    "    \"\"\"Compute Idf Scores\n",
    "    \n",
    "    Computes IDF scores for given `corpus`\n",
    "    \n",
    "    Parameters\n",
    "    ----------\n",
    "    corpus: list\n",
    "        List of documents as string\n",
    "        \n",
    "    Returns\n",
    "    -------\n",
    "    dict\n",
    "        Idf scores of words\n",
    "    \"\"\"\n",
    "    \n",
    "    N = len(corpus)\n",
    "    idf_dict = {}\n",
    "    for doc in corpus:\n",
    "        for word in set(doc):\n",
    "            if word in idf_dict:\n",
    "                idf_dict[word] += 1\n",
    "            else:\n",
    "                idf_dict[word] = 1\n",
    "            \n",
    "    return {\n",
    "        word: log(N / df)\n",
    "        for word, df in idf_dict.items()\n",
    "    }"
   ]
  },
  {
   "cell_type": "markdown",
   "metadata": {},
   "source": [
    "# K-Means Clustering\n",
    "## Implementation\n",
    "\n",
    "The loss function is:\n",
    "\n",
    "$\\mathcal{L}$ = ${\\left|\\left| X - CM \\right|\\right|}_{F}$\n",
    "\n",
    "$N$ is the number of sample, $D$ is the input dimension, $k$ is the number of clusters\n",
    "\n",
    "$C \\in \\{0, 1\\}^{N \\times k}$, $M \\in \\mathbb{R}^{k \\times D}$\n",
    "\n",
    "The only constraint we have is $\\sum_{i}{C_{n, i} = 1}$\n",
    "\n",
    "\\begin{align*}\n",
    "    \\mathcal{L}^2 &= {\\left|\\left| X - CM \\right|\\right|}_{F}^2 \\\\\n",
    "                &= trace((X - CM)^T (X - CM)) \\\\\n",
    "                &= trace(X^T X - X^T CM - M^T C^T X + M^T C^T C M)\n",
    "\\end{align*}\n",
    "\n",
    "The partial derivative w.r.t $M$ follows\n",
    "\n",
    "\\begin{align*}\n",
    "    \\frac{\\partial \\mathcal{L}^2}{\\partial M} &= \\frac{\\partial trace(X^T X - X^T CM - M^T C^T X + M^T C^T C M)}{\\partial M} \\\\\n",
    "                                            &= \\frac{\\partial trace(X^T X)}{\\partial M} + \\frac{\\partial trace(- X^T CM)}{\\partial M} + \\frac{\\partial trace(- M^T C^T X)}{\\partial M} + \\frac{\\partial trace(M^T C^T C M)}{\\partial M} \\\\\n",
    "                                            &= 0 - C^T X - C^T X + 2 C^T C M \\\\\n",
    "                                            &= -2 C^T X + 2 C^T C M\n",
    "\\end{align*}\n",
    "\n",
    "And let derivative equals 0\n",
    "\n",
    "\n",
    "\\begin{align*}\n",
    "    \\frac{\\partial \\mathcal{L}^2}{\\partial M} &= -2 C^T X + 2 C^T C M = 0 \\\\\n",
    "    &\\Rightarrow C^T C M = C^T X \\\\\n",
    "    &\\Rightarrow M = (C^T C)^{-1} C^T X\n",
    "\\end{align*}\n",
    "\n",
    "Clusters have been assigned w.r.t. distance by calculated cluster means, which are rows of matrix $M$. So, for each example number $n$, corresponding value in assignment matrix is calculated as $C_{n, k} = 1$ and $C_{n, i} = 0$ for $k \\neq i$, where $k = \\arg\\min_{k}{{\\left|\\left| X_{n, :} - M_{k, :} \\right|\\right|}_2}$. So, we can find cluster assignment in vectorized way as follows:\n",
    "\n",
    "\\begin{align*}\n",
    "    \\arg\\min_{k}{{\\left|\\left| X_{n, :} - M_{k, :} \\right|\\right|}_2} &=  \\arg\\min_{k}{{\\left|\\left| X_{n, :} - M_{k, :} \\right|\\right|}_2^2}\\\\\n",
    "                                                   &= \\arg\\min_{k}{\\sum_{i}{(X_{n, i} - M_{k, i})^2}} \\\\\n",
    "                                                   &= \\arg\\min_{k}{\\sum_{i}{X_{n, i}^2 - 2 X_{n, i} M_{k, i} + M_{k, i}^2}} \\\\\n",
    "                                                   &= \\arg\\min_{k}{\\sum_{i}{- 2 X_{n, i} M_{k, i} + M_{k, i}^2}} \\\\\n",
    "                                                   &= \\arg\\min_{k}{\\sum_{i}{- 2 X_{n, i} M^T_{i, k} + M_{k, i}^2}} \\\\\n",
    "                                                   &= \\arg\\min_{k}{- 2 {X M^T}_{n, k} + \\sum_{i}{M_{k, i}^2}}\n",
    "\\end{align*}"
   ]
  },
  {
   "cell_type": "code",
   "execution_count": 14,
   "metadata": {
    "ExecuteTime": {
     "end_time": "2019-05-05T19:15:11.567604Z",
     "start_time": "2019-05-05T19:15:11.562728Z"
    }
   },
   "outputs": [],
   "source": [
    "def to_onehot(vec, k):\n",
    "    \"\"\"Convert to onehot\n",
    "    \n",
    "    Converts `vec` to its onehot representation\n",
    "    \n",
    "    Parameters\n",
    "    ----------\n",
    "    vec: numpy.ndarray\n",
    "    \n",
    "    k: int\n",
    "        Size of onehot vectors\n",
    "    Returns\n",
    "    -------\n",
    "    numpy.ndarray\n",
    "        Onehot representation of given array\n",
    "    \"\"\"\n",
    "    one_hot_mtx = np.zeros((vec.shape[0], k))\n",
    "    for sample, idx in enumerate(vec):\n",
    "        one_hot_mtx[sample, idx] = 1\n",
    "        \n",
    "    return one_hot_mtx"
   ]
  },
  {
   "cell_type": "code",
   "execution_count": 15,
   "metadata": {
    "ExecuteTime": {
     "end_time": "2019-05-05T19:15:11.583848Z",
     "start_time": "2019-05-05T19:15:11.570352Z"
    }
   },
   "outputs": [],
   "source": [
    "def K_means(data, k, verbose=False):\n",
    "    \"\"\"K-Means clustering\n",
    "    \n",
    "    Given the `data` in shape (N, D) where N is the number of examples\n",
    "    and D is the number of features, it calculates `k` cluster center\n",
    "    that represents the data most. Maths behind this implementation is detailed\n",
    "    above.\n",
    "    \n",
    "    Parameters\n",
    "    ----------\n",
    "    data: numpy.ndarray\n",
    "        Data\n",
    "    k: int\n",
    "        Number of Clusters\n",
    "    Verbose: bool\n",
    "        Print loss in each iteration if True\n",
    "        \n",
    "    Returns\n",
    "    -------\n",
    "    M: numpy.ndarray\n",
    "        Cluster centers\n",
    "    C: numpy.ndarray\n",
    "        Data assignments\n",
    "    loss: float\n",
    "        Last calculated loss\n",
    "    \"\"\"\n",
    "    num_samples, input_dim = data.shape\n",
    "    \n",
    "\n",
    "    M = data[np.random.choice(num_samples, k, replace=False), :]\n",
    "    C = to_onehot(np.argmin(-2 * np.dot(data, M.T) + np.power(M, 2).sum(axis=1)[np.newaxis, :], axis=1), k)\n",
    "    prev_C = np.zeros_like(C)\n",
    "    \n",
    "    loss = np.linalg.norm(data - np.dot(C, M), ord=\"fro\")\n",
    "    \n",
    "    while not np.all(C == prev_C):\n",
    "        if verbose:\n",
    "            print(\"Loss: {}\".format(loss))\n",
    "        prev_C = C\n",
    "        \n",
    "        M = np.dot(np.dot(np.linalg.pinv(np.dot(C.T, C)), C.T), data)\n",
    "        C = to_onehot(np.argmin(-2 * np.dot(data, M.T) + np.power(M, 2).sum(axis=1)[np.newaxis, :], axis=1), k)\n",
    "\n",
    "        loss = np.linalg.norm(data - np.dot(C, M), ord=\"fro\")\n",
    "        \n",
    "    return M, C, loss"
   ]
  },
  {
   "cell_type": "markdown",
   "metadata": {},
   "source": [
    "## Testing K-Means\n",
    "\n",
    "In this part, I have created fake dataset and tested my implementation of k-means clustering algorithm with the fake dataset"
   ]
  },
  {
   "cell_type": "code",
   "execution_count": 16,
   "metadata": {
    "ExecuteTime": {
     "end_time": "2019-05-05T19:15:11.869656Z",
     "start_time": "2019-05-05T19:15:11.585729Z"
    }
   },
   "outputs": [],
   "source": [
    "import matplotlib.pyplot as plt"
   ]
  },
  {
   "cell_type": "code",
   "execution_count": 17,
   "metadata": {
    "ExecuteTime": {
     "end_time": "2019-05-05T19:15:11.876809Z",
     "start_time": "2019-05-05T19:15:11.871853Z"
    }
   },
   "outputs": [],
   "source": [
    "# 3 Different centers\n",
    "data1 = np.random.rand(50, 2) * 3 + 5\n",
    "data2 = np.random.rand(30, 2) * 3\n",
    "data3 = np.random.rand(40, 2) * 3 + 10\n",
    "\n",
    "data = np.concatenate([data1, data2, data3])"
   ]
  },
  {
   "cell_type": "markdown",
   "metadata": {},
   "source": [
    "### Plot dataset"
   ]
  },
  {
   "cell_type": "code",
   "execution_count": 18,
   "metadata": {
    "ExecuteTime": {
     "end_time": "2019-05-05T19:15:12.196551Z",
     "start_time": "2019-05-05T19:15:11.879045Z"
    }
   },
   "outputs": [
    {
     "data": {
      "text/plain": [
       "[<matplotlib.lines.Line2D at 0x1200d34a8>]"
      ]
     },
     "execution_count": 18,
     "metadata": {},
     "output_type": "execute_result"
    },
    {
     "data": {
      "image/png": "[encoded data removed]",
      "text/plain": [
       "<Figure size 1440x720 with 1 Axes>"
      ]
     },
     "metadata": {
      "needs_background": "light"
     },
     "output_type": "display_data"
    }
   ],
   "source": [
    "plt.figure(figsize=(20, 10))\n",
    "plt.plot(data[:, 0], data[:, 1], \"o\")"
   ]
  },
  {
   "cell_type": "markdown",
   "metadata": {},
   "source": [
    "### Plot dataset with cluster centers"
   ]
  },
  {
   "cell_type": "code",
   "execution_count": 19,
   "metadata": {
    "ExecuteTime": {
     "end_time": "2019-05-05T19:15:12.500138Z",
     "start_time": "2019-05-05T19:15:12.199630Z"
    }
   },
   "outputs": [
    {
     "data": {
      "text/plain": [
       "[<matplotlib.lines.Line2D at 0x1200fc080>]"
      ]
     },
     "execution_count": 19,
     "metadata": {},
     "output_type": "execute_result"
    },
    {
     "data": {
      "image/png": "[encoded data removed]",
      "text/plain": [
       "<Figure size 1440x720 with 1 Axes>"
      ]
     },
     "metadata": {
      "needs_background": "light"
     },
     "output_type": "display_data"
    }
   ],
   "source": [
    "M, C, loss = K_means(data, 3)\n",
    "plt.figure(figsize=(20, 10))\n",
    "plt.plot(data[:, 0], data[:, 1], \"o\")\n",
    "plt.plot(M[:, 0], M[:, 1], \"rx\")"
   ]
  },
  {
   "cell_type": "markdown",
   "metadata": {},
   "source": [
    "# Clustering and Finding Most Representative Sentences"
   ]
  },
  {
   "cell_type": "markdown",
   "metadata": {},
   "source": [
    "## Find Most Representative Sentences for Given Cluster Centers"
   ]
  },
  {
   "cell_type": "code",
   "execution_count": 20,
   "metadata": {
    "ExecuteTime": {
     "end_time": "2019-05-05T19:15:12.510326Z",
     "start_time": "2019-05-05T19:15:12.503250Z"
    }
   },
   "outputs": [],
   "source": [
    "def find_most_repr_sent_in_cluster(data, M):\n",
    "    \"\"\"Find Most Representative Sentences\n",
    "    \n",
    "    Parameters\n",
    "    ----------\n",
    "    data: numpy.ndarray\n",
    "        Document representation\n",
    "        \n",
    "    M: numpy.ndarray\n",
    "        Cluster centers\n",
    "        \n",
    "    Returns\n",
    "    -------\n",
    "    numpy.ndarray\n",
    "        Indices of sentences which are most representative ones\n",
    "    \"\"\"\n",
    "    return np.argmin(-2 * np.dot(data, M.T) + np.power(M, 2).sum(axis=1)[np.newaxis, :], axis=0)"
   ]
  },
  {
   "cell_type": "markdown",
   "metadata": {},
   "source": [
    "## Find Cluster Centers and Most Representative Sentences"
   ]
  },
  {
   "cell_type": "code",
   "execution_count": 21,
   "metadata": {
    "ExecuteTime": {
     "end_time": "2019-05-05T19:15:12.524572Z",
     "start_time": "2019-05-05T19:15:12.514026Z"
    }
   },
   "outputs": [],
   "source": [
    "def cluster(doc_vectors, num_k_means_trial, k_formula):\n",
    "    \"\"\"Cluster and return most represntative sentence indices\n",
    "    \n",
    "    Parameters\n",
    "    ----------\n",
    "    doc_vectors: numpy.ndarray\n",
    "        Document representation by sentence vectors\n",
    "        \n",
    "    num_k_means_trial: int\n",
    "        Number of k-means trial select best one\n",
    "        \n",
    "    Returns\n",
    "    -------\n",
    "    numpy.ndarray\n",
    "        List of most representative indices\n",
    "    \"\"\"\n",
    "    k = max(1, int(k_formula(len(doc_vectors))))\n",
    "\n",
    "    k_means = []\n",
    "    min_loss_model = -1\n",
    "    min_loss = float(\"inf\")\n",
    "\n",
    "    for i in range(num_k_means_trial):\n",
    "        M, C, loss = K_means(doc_vectors, k)\n",
    "        if loss < min_loss:\n",
    "            min_loss = loss\n",
    "            min_loss_model = i\n",
    "            \n",
    "        k_means.append(M)\n",
    "        \n",
    "    best_means = k_means[min_loss_model]\n",
    "    repr_sentences = find_most_repr_sent_in_cluster(doc_vectors, best_means)\n",
    "\n",
    "    return repr_sentences"
   ]
  },
  {
   "cell_type": "markdown",
   "metadata": {},
   "source": [
    "# Extract Summary"
   ]
  },
  {
   "cell_type": "code",
   "execution_count": 22,
   "metadata": {
    "ExecuteTime": {
     "end_time": "2019-05-05T19:15:12.534793Z",
     "start_time": "2019-05-05T19:15:12.527905Z"
    }
   },
   "outputs": [],
   "source": [
    "def extract_summary(doc_vectors, doc_sentences, k_means_trial=5, k_formula=lambda n: n * 0.5):\n",
    "    \"\"\"Extracts Summary\n",
    "    \n",
    "    Parameters\n",
    "    ----------\n",
    "    doc_vectors: numpy.ndarray\n",
    "        Document representation by sentence vectors\n",
    "    doc_sentences: numpy.ndarray\n",
    "        Document representation by its sentences\n",
    "        \n",
    "    Returns\n",
    "    -------\n",
    "    str\n",
    "        Summary of document\n",
    "    \"\"\"\n",
    "    most_repr_sentences = cluster(doc_vectors, k_means_trial, k_formula)\n",
    "    return \". \".join(list(set(doc_sentences[most_repr_sentences])))"
   ]
  },
  {
   "cell_type": "markdown",
   "metadata": {},
   "source": [
    "# Evaluation"
   ]
  },
  {
   "cell_type": "code",
   "execution_count": 23,
   "metadata": {
    "ExecuteTime": {
     "end_time": "2019-05-05T19:15:12.546265Z",
     "start_time": "2019-05-05T19:15:12.538269Z"
    }
   },
   "outputs": [],
   "source": [
    "def evaluation(gold_summaries, extracted_summaries):\n",
    "    \"\"\"Evaluation of summaries\n",
    "    \n",
    "    Parameters\n",
    "    ----------\n",
    "    gold_summaries: list\n",
    "        Reference summaries\n",
    "    extracted_summaries: list\n",
    "        Extracted summaries by the model\n",
    "        \n",
    "    Returns\n",
    "    -------\n",
    "    list\n",
    "        Rough scores as tuple (rouge-1.f, rouge-2.f, rouge-l.f)\n",
    "    \"\"\"\n",
    "    rouge = Rouge()\n",
    "    rouge_scores = []\n",
    "    for hyp, ref in zip(gold_summaries, extracted_summaries):\n",
    "        scores = rouge.get_scores(hyp, ref)[0]\n",
    "        rouge_scores.append((scores[\"rouge-1\"][\"f\"], scores[\"rouge-2\"][\"f\"], scores[\"rouge-l\"][\"f\"]))\n",
    "    return rouge_scores"
   ]
  },
  {
   "cell_type": "markdown",
   "metadata": {
    "ExecuteTime": {
     "end_time": "2019-05-05T17:09:43.345082Z",
     "start_time": "2019-05-05T17:09:43.342130Z"
    }
   },
   "source": [
    "# Model Construction"
   ]
  },
  {
   "cell_type": "markdown",
   "metadata": {},
   "source": [
    "## Data Manipulation"
   ]
  },
  {
   "cell_type": "markdown",
   "metadata": {},
   "source": [
    "### Split Train and Test"
   ]
  },
  {
   "cell_type": "code",
   "execution_count": 24,
   "metadata": {
    "ExecuteTime": {
     "end_time": "2019-05-05T19:15:12.558609Z",
     "start_time": "2019-05-05T19:15:12.549409Z"
    }
   },
   "outputs": [],
   "source": [
    "def split_train_test(articles, gold_summaries, test_ratio=0.1):\n",
    "    \"\"\"Split Train and Test Data\n",
    "    \n",
    "    Parameters\n",
    "    ----------\n",
    "    articles: list\n",
    "        List of input articles\n",
    "    gold_summaries: list\n",
    "        List of label gold summaries\n",
    "    test_ratio: float\n",
    "        Test set ratio\n",
    "        \n",
    "    Returns\n",
    "    -------\n",
    "    tuple\n",
    "        Train input\n",
    "    tuple\n",
    "        Train label\n",
    "    tuple\n",
    "        Test input\n",
    "    tuple\n",
    "        Test label\n",
    "    \"\"\"\n",
    "    assert len(articles) == len(gold_summaries)\n",
    "    num_examples = len(articles)\n",
    "    indices = list(range(num_examples))\n",
    "    random.shuffle(indices)\n",
    "    num_train_example = int((1 - test_ratio) * num_examples)\n",
    "    test_indices = indices[num_train_example:]\n",
    "    train_indices = indices[:num_train_example]\n",
    "    train_getter = itemgetter(*train_indices)\n",
    "    test_getter = itemgetter(*test_indices)\n",
    "\n",
    "    return train_getter(articles), train_getter(gold_summaries), test_getter(articles), test_getter(gold_summaries)"
   ]
  },
  {
   "cell_type": "markdown",
   "metadata": {},
   "source": [
    "### Split Data Into K-Folds"
   ]
  },
  {
   "cell_type": "code",
   "execution_count": 25,
   "metadata": {
    "ExecuteTime": {
     "end_time": "2019-05-05T19:15:12.572693Z",
     "start_time": "2019-05-05T19:15:12.562373Z"
    }
   },
   "outputs": [],
   "source": [
    "def kfolds(x, y, k=5):\n",
    "    \"\"\"K-Fold Cross Validation\n",
    "    \n",
    "    Parameters\n",
    "    ----------\n",
    "    x: list\n",
    "        Input data\n",
    "    y: list\n",
    "        Output data\n",
    "    k: int\n",
    "        Number of folds\n",
    "        \n",
    "    Yields\n",
    "    ------\n",
    "    tuple\n",
    "        Train input for fold i\n",
    "    tuple\n",
    "        Train output for fold i\n",
    "    tuple\n",
    "        Validation input for fold i\n",
    "    tuple\n",
    "        Validation output for fold i\n",
    "    \"\"\"\n",
    "    assert len(x) == len(y)\n",
    "    \n",
    "    num_samples = len(x)\n",
    "    indices = list(range(num_samples))\n",
    "    random.shuffle(indices)\n",
    "    fold_size = num_samples // k\n",
    "    \n",
    "    for i in range(0, num_samples, fold_size):\n",
    "        valid_indices = indices[i: i + fold_size]\n",
    "        train_indices = indices[:i] + indices[i + fold_size:]\n",
    "        valid_getter = itemgetter(*valid_indices)\n",
    "        train_getter = itemgetter(*train_indices)\n",
    "        \n",
    "        yield train_getter(x), train_getter(y), valid_getter(x), valid_getter(y)"
   ]
  },
  {
   "cell_type": "markdown",
   "metadata": {},
   "source": [
    "## Get Scores for given dataset"
   ]
  },
  {
   "cell_type": "code",
   "execution_count": 26,
   "metadata": {
    "ExecuteTime": {
     "end_time": "2019-05-05T19:15:12.586994Z",
     "start_time": "2019-05-05T19:15:12.576318Z"
    }
   },
   "outputs": [],
   "source": [
    "def get_r_scores(articles, gold_summaries, use_tfidf, k_means_trial, k_formula):\n",
    "    \"\"\"Get Rouge Scores\n",
    "    \n",
    "    Extracts summaries and computes rouge scores for given `articles` and `gold_summaries`\n",
    "    \n",
    "    Parameters\n",
    "    ----------\n",
    "    articles: list\n",
    "        List of articles to extract summaries\n",
    "    \n",
    "    gold_summaries: list\n",
    "        List of gold summaries\n",
    "    \n",
    "    use_tfidf: bool\n",
    "        If true calculate and use tf-idf scores\n",
    "    \n",
    "    k_means_trial: int\n",
    "        Number of trials for k-means algorithm\n",
    "\n",
    "    k_formula: function\n",
    "        Rule for k in k-means algorithm\n",
    "        \n",
    "    \"\"\"\n",
    "    sentences = parse_documents_to_sentences(articles)\n",
    "    tokens = tokenize_sentences(sentences)\n",
    "\n",
    "    if use_tfidf:\n",
    "        idf_dicts = [idf_scores(docs) for docs in tokens]\n",
    "    else:\n",
    "        idf_dicts = None\n",
    "\n",
    "    doc_vectors = all_articles2sentvecs(tokens, word_vectors, idf_dicts)\n",
    "\n",
    "    summaries = [\n",
    "        extract_summary(doc_vector, doc_sentences, k_means_trial, k_formula)\n",
    "        for doc_vector, doc_sentences in zip(doc_vectors, sentences)\n",
    "    ]\n",
    "    r_scores = evaluation(gold_summaries, summaries)\n",
    "    r_scores_avg = np.array(r_scores).mean(axis=0)\n",
    "\n",
    "    return r_scores_avg\n"
   ]
  },
  {
   "cell_type": "markdown",
   "metadata": {},
   "source": [
    "## Validate and Report Given Train and Test Sets"
   ]
  },
  {
   "cell_type": "code",
   "execution_count": 27,
   "metadata": {
    "ExecuteTime": {
     "end_time": "2019-05-05T19:15:12.607247Z",
     "start_time": "2019-05-05T19:15:12.590233Z"
    }
   },
   "outputs": [],
   "source": [
    "def validate_and_report(train_articles, train_gold_summaries,\n",
    "                        test_articles, test_gold_summaries,\n",
    "                        k,\n",
    "                        use_tfidf,\n",
    "                        k_means_trial,\n",
    "                        k_formula):\n",
    "    \n",
    "    \"\"\"Compute Validation Scores and Test Score\n",
    "    \n",
    "    Parameters\n",
    "    ----------\n",
    "    train_articles: list\n",
    "        Train input set\n",
    "\n",
    "    train_gold_summaries: list\n",
    "        Train label set\n",
    "    \n",
    "    test_articles: list\n",
    "        Test input set\n",
    "    \n",
    "    test_gold_summaries: list\n",
    "        Test label set\n",
    "\n",
    "    k: int\n",
    "        k parameter for k-folds validation\n",
    "    \n",
    "    use_tfidf: bool\n",
    "        If true calculate and use tf-idf scores\n",
    "\n",
    "    k_means_trial: int\n",
    "        Number of trials for k-means algorithm\n",
    "\n",
    "    k_formula: function\n",
    "        Rule for k in k-means algorithm\n",
    "    \"\"\"\n",
    "\n",
    "    r1 = []\n",
    "    r2 = []\n",
    "    rL = []\n",
    "    for t_articles, t_gold_summaries, v_articles, v_gold_summaries in kfolds(train_articles, train_gold_summaries, k=k):\n",
    "        r1_, r2_, rL_ = get_r_scores(\n",
    "            v_articles,\n",
    "            v_gold_summaries,\n",
    "            use_tfidf=use_tfidf,\n",
    "            k_means_trial=k_means_trial,\n",
    "            k_formula=k_formula)\n",
    "        r1.append(r1_)\n",
    "        r2.append(r2_)\n",
    "        rL.append(rL_)\n",
    "\n",
    "    def get_statistics(r):\n",
    "        return np.mean(r), np.std(r)\n",
    "\n",
    "    mean_r1, std_r1 = get_statistics(r1)\n",
    "    mean_r2, std_r2 = get_statistics(r2)\n",
    "    mean_rL, std_rL = get_statistics(rL)\n",
    "\n",
    "    def report(name, mean, std):\n",
    "        print(\"{}: {} +/- {}\".format(name, mean, std))\n",
    "\n",
    "    print(\"Validation Scores\")\n",
    "    print(\"-----------------\")\n",
    "    report(\"Rouge 1\", mean_r1, std_r1)\n",
    "    report(\"Rouge 2\", mean_r2, std_r2)\n",
    "    report(\"Rouge L\", mean_rL, std_rL)\n",
    "\n",
    "    r1_t, r2_t, rL_t = get_r_scores(\n",
    "        test_articles,\n",
    "        test_gold_summaries,\n",
    "        use_tfidf=use_tfidf,\n",
    "        k_means_trial=k_means_trial,\n",
    "        k_formula=k_formula\n",
    "    )\n",
    "\n",
    "    print(\"Test Scores\")\n",
    "    print(\"-----------\")\n",
    "    print(\"Rouge 1: {}\".format(r1_t))\n",
    "    print(\"Rouge 2: {}\".format(r2_t))\n",
    "    print(\"Rouge L: {}\".format(rL_t))\n",
    "    \n",
    "    return r1, r2, rL, r1_t, r2_t, rL_t"
   ]
  },
  {
   "cell_type": "markdown",
   "metadata": {},
   "source": [
    "## Loading Word Vectors"
   ]
  },
  {
   "cell_type": "code",
   "execution_count": 28,
   "metadata": {
    "ExecuteTime": {
     "end_time": "2019-05-05T19:15:25.058906Z",
     "start_time": "2019-05-05T19:15:12.610768Z"
    }
   },
   "outputs": [],
   "source": [
    "with open(VECTOR_PATH, \"rb\") as f:\n",
    "    word_vectors = pickle.load(f)"
   ]
  },
  {
   "cell_type": "markdown",
   "metadata": {},
   "source": [
    "## Load Dataset"
   ]
  },
  {
   "cell_type": "code",
   "execution_count": 29,
   "metadata": {
    "ExecuteTime": {
     "end_time": "2019-05-05T19:15:26.471130Z",
     "start_time": "2019-05-05T19:15:25.063380Z"
    }
   },
   "outputs": [],
   "source": [
    "articles = read_documents(ARTICLES_PATH)\n",
    "gold_summaries = read_documents(GOLD_SUMMARIES_PATH)"
   ]
  },
  {
   "cell_type": "code",
   "execution_count": 30,
   "metadata": {
    "ExecuteTime": {
     "end_time": "2019-05-05T19:15:26.479765Z",
     "start_time": "2019-05-05T19:15:26.473012Z"
    }
   },
   "outputs": [],
   "source": [
    "train_articles, train_gold_summaries, test_articles, test_gold_summaries = split_train_test(articles, gold_summaries, test_ratio=0.1)"
   ]
  },
  {
   "cell_type": "markdown",
   "metadata": {},
   "source": [
    "# Models"
   ]
  },
  {
   "cell_type": "markdown",
   "metadata": {},
   "source": [
    "## Model 1\n",
    "\n",
    "-  TF-IDF Weighted with $k = N * 0.5$ where k is parameter for k-Means and N is the number of documents"
   ]
  },
  {
   "cell_type": "code",
   "execution_count": 31,
   "metadata": {
    "ExecuteTime": {
     "end_time": "2019-05-05T19:16:25.526999Z",
     "start_time": "2019-05-05T19:15:26.481851Z"
    }
   },
   "outputs": [
    {
     "name": "stdout",
     "output_type": "stream",
     "text": [
      "Validation Scores\n",
      "-----------------\n",
      "Rouge 1: 0.31138632803581406 +/- 0.008409944531503212\n",
      "Rouge 2: 0.1604115598828965 +/- 0.01045854523227885\n",
      "Rouge L: 0.26463736436639174 +/- 0.015118714987182633\n",
      "Test Scores\n",
      "-----------\n",
      "Rouge 1: 0.31287251313868963\n",
      "Rouge 2: 0.1731771597230251\n",
      "Rouge L: 0.26280171556918674\n"
     ]
    }
   ],
   "source": [
    "use_tfidf = True\n",
    "k_formula = lambda n: n * 0.5\n",
    "k_means_trial = 5\n",
    "k = 5\n",
    "\n",
    "_ = validate_and_report(train_articles, train_gold_summaries, test_articles, test_gold_summaries, k, use_tfidf, k_means_trial, k_formula)"
   ]
  },
  {
   "cell_type": "markdown",
   "metadata": {},
   "source": [
    "## Model 2\n",
    "\n",
    "-  TF-IDF Weighted with $k = N^{0.5}$ where k is parameter for k-Means and N is the number of documents"
   ]
  },
  {
   "cell_type": "code",
   "execution_count": 32,
   "metadata": {
    "ExecuteTime": {
     "end_time": "2019-05-05T19:17:07.900164Z",
     "start_time": "2019-05-05T19:16:25.529569Z"
    }
   },
   "outputs": [
    {
     "name": "stdout",
     "output_type": "stream",
     "text": [
      "Validation Scores\n",
      "-----------------\n",
      "Rouge 1: 0.23605103549710538 +/- 0.007454600554395281\n",
      "Rouge 2: 0.12299713742248027 +/- 0.017593427979157708\n",
      "Rouge L: 0.17952855221891295 +/- 0.018400090863576014\n",
      "Test Scores\n",
      "-----------\n",
      "Rouge 1: 0.24349030144599607\n",
      "Rouge 2: 0.1270980441100667\n",
      "Rouge L: 0.18048513703694674\n"
     ]
    }
   ],
   "source": [
    "use_tfidf = True\n",
    "k_formula = lambda n: n ** 0.5\n",
    "k_means_trial = 5\n",
    "k = 5\n",
    "\n",
    "_ = validate_and_report(train_articles, train_gold_summaries, test_articles, test_gold_summaries, k, use_tfidf, k_means_trial, k_formula)"
   ]
  },
  {
   "cell_type": "markdown",
   "metadata": {},
   "source": [
    "## Model 3\n",
    "-  Simple averaged word vectors with $k = N * 0.5$ where k is parameter for k-Means and N is the number of documents"
   ]
  },
  {
   "cell_type": "code",
   "execution_count": 33,
   "metadata": {
    "ExecuteTime": {
     "end_time": "2019-05-05T19:17:58.870031Z",
     "start_time": "2019-05-05T19:17:07.903366Z"
    }
   },
   "outputs": [
    {
     "name": "stdout",
     "output_type": "stream",
     "text": [
      "Validation Scores\n",
      "-----------------\n",
      "Rouge 1: 0.34620566126789276 +/- 0.035084481768938684\n",
      "Rouge 2: 0.20002448159387484 +/- 0.024387943041996128\n",
      "Rouge L: 0.2803608290502537 +/- 0.041006477820275125\n",
      "Test Scores\n",
      "-----------\n",
      "Rouge 1: 0.3310038295681289\n",
      "Rouge 2: 0.18764942906671997\n",
      "Rouge L: 0.2602977812079017\n"
     ]
    }
   ],
   "source": [
    "use_tfidf = False\n",
    "k_formula = lambda n: n * 0.5\n",
    "k_means_trial = 5\n",
    "k = 5\n",
    "\n",
    "_ = validate_and_report(train_articles, train_gold_summaries, test_articles, test_gold_summaries, k, use_tfidf, k_means_trial, k_formula)"
   ]
  },
  {
   "cell_type": "markdown",
   "metadata": {},
   "source": [
    "## Model 4\n",
    "-  Simple averaged word vectors with $k = N^{0.5}$ where k is parameter for k-Means and N is the number of documents"
   ]
  },
  {
   "cell_type": "code",
   "execution_count": 34,
   "metadata": {
    "ExecuteTime": {
     "end_time": "2019-05-05T19:18:37.181397Z",
     "start_time": "2019-05-05T19:17:58.872648Z"
    }
   },
   "outputs": [
    {
     "name": "stdout",
     "output_type": "stream",
     "text": [
      "Validation Scores\n",
      "-----------------\n",
      "Rouge 1: 0.28457624432831957 +/- 0.07984627680727928\n",
      "Rouge 2: 0.17239069522857373 +/- 0.0889327792082479\n",
      "Rouge L: 0.1981388762654932 +/- 0.0573083952475998\n",
      "Test Scores\n",
      "-----------\n",
      "Rouge 1: 0.2538088856431573\n",
      "Rouge 2: 0.1317802279682391\n",
      "Rouge L: 0.1744392999660256\n"
     ]
    }
   ],
   "source": [
    "use_tfidf = False\n",
    "k_formula = lambda n: n ** 0.5\n",
    "k_means_trial = 5\n",
    "k = 5\n",
    "\n",
    "_ = validate_and_report(train_articles, train_gold_summaries, test_articles, test_gold_summaries, k, use_tfidf, k_means_trial, k_formula)"
   ]
  },
  {
   "cell_type": "markdown",
   "metadata": {},
   "source": [
    "# Results Table"
   ]
  },
  {
   "cell_type": "markdown",
   "metadata": {},
   "source": [
    "|Model                           | Metric        |         Validation Score| Test Score |\n",
    "| ------------------------------ |:-------------:| -----------------------:| ---------: | \n",
    "| Model 1 (tf-idf, $k = N * 0.5$)|     Rouge - 1 |      0.31138632803581406 +/- 0.008409944531503212|      0.31287251313868963|\n",
    "| Model 1 (tf-idf, $k = N * 0.5$)|     Rouge - 2 |      0.1604115598828965 +/- 0.01045854523227885|      0.1731771597230251|\n",
    "| Model 1 (tf-idf, $k = N * 0.5$)|     Rouge - L |      0.26463736436639174 +/- 0.015118714987182633|      0.1744392999660256|\n",
    "| Model 2 (tf-idf, $k = N^{0.5}$)|     Rouge - 1 |      0.23605103549710538 +/- 0.007454600554395281|      0.24349030144599607|\n",
    "| Model 2 (tf-idf, $k = N^{0.5}$)|     Rouge - 2 |      0.12299713742248027 +/- 0.017593427979157708|      0.1270980441100667|\n",
    "| Model 2 (tf-idf, $k = N^{0.5}$)|     Rouge - L |      0.17952855221891295 +/- 0.018400090863576014|      0.18048513703694674|\n",
    "| Model 3 (simple, $k = N * 0.5$)|     Rouge - 1 |      0.34620566126789276 +/- 0.035084481768938684|      0.3310038295681289|\n",
    "| Model 3 (simple, $k = N * 0.5$)|     Rouge - 2 |      0.20002448159387484 +/- 0.024387943041996128|      0.18764942906671997|\n",
    "| Model 3 (simple, $k = N * 0.5$)|     Rouge - L |      0.2803608290502537 +/- 0.041006477820275125|      0.2602977812079017|\n",
    "| Model 4 (simple, $k = N^{0.5}$)|     Rouge - 1 |      0.28457624432831957 +/- 0.07984627680727928|0.2538088856431573|\n",
    "| Model 4 (simple, $k = N^{0.5}$)|     Rouge - 2 |      0.17239069522857373 +/- 0.0889327792082479|      0.1317802279682391|\n",
    "| Model 4 (simple, $k = N^{0.5}$)|     Rouge - L |      0.1981388762654932 +/- 0.0573083952475998|      0.1744392999660256|"
   ]
  },
  {
   "cell_type": "code",
   "execution_count": null,
   "metadata": {},
   "outputs": [],
   "source": []
  }
 ],
 "metadata": {
  "kernelspec": {
   "display_name": "Python 3",
   "language": "python",
   "name": "python3"
  },
  "language_info": {
   "codemirror_mode": {
    "name": "ipython",
    "version": 3
   },
   "file_extension": ".py",
   "mimetype": "text/x-python",
   "name": "python",
   "nbconvert_exporter": "python",
   "pygments_lexer": "ipython3",
   "version": "3.7.3"
  },
  "toc": {
   "base_numbering": 1,
   "nav_menu": {},
   "number_sections": true,
   "sideBar": true,
   "skip_h1_title": false,
   "title_cell": "Table of Contents",
   "title_sidebar": "Contents",
   "toc_cell": false,
   "toc_position": {},
   "toc_section_display": true,
   "toc_window_display": true
  }
 },
 "nbformat": 4,
 "nbformat_minor": 2
}
