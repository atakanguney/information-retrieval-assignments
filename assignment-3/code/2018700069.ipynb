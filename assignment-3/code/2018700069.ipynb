{
 "cells": [
  {
   "cell_type": "code",
   "execution_count": 1,
   "metadata": {
    "ExecuteTime": {
     "end_time": "2019-05-10T01:36:47.722308Z",
     "start_time": "2019-05-10T01:36:47.569191Z"
    }
   },
   "outputs": [],
   "source": [
    "import os\n",
    "import pickle\n",
    "import re\n",
    "import random\n",
    "\n",
    "from collections import Counter\n",
    "from math import log\n",
    "from operator import itemgetter\n",
    "\n",
    "import numpy as np\n",
    "try:\n",
    "    from rouge import Rouge\n",
    "except:\n",
    "    !pip install rouge\n",
    "    from rouge import Rouge"
   ]
  },
  {
   "cell_type": "markdown",
   "metadata": {},
   "source": [
    "Executed in 147ms"
   ]
  },
  {
   "cell_type": "code",
   "execution_count": 2,
   "metadata": {
    "ExecuteTime": {
     "end_time": "2019-05-10T01:36:47.728545Z",
     "start_time": "2019-05-10T01:36:47.725429Z"
    }
   },
   "outputs": [],
   "source": [
    "random.seed(58)"
   ]
  },
  {
   "cell_type": "markdown",
   "metadata": {},
   "source": [
    "Executed in 3ms"
   ]
  },
  {
   "cell_type": "code",
   "execution_count": 3,
   "metadata": {
    "ExecuteTime": {
     "end_time": "2019-05-10T01:36:47.734415Z",
     "start_time": "2019-05-10T01:36:47.731531Z"
    }
   },
   "outputs": [],
   "source": [
    "VECTOR_PATH = '../glove.6B.200d.pkl'\n",
    "ARTICLES_PATH = '../articles/'\n",
    "GOLD_SUMMARIES_PATH = '../gold_summaries/'"
   ]
  },
  {
   "cell_type": "markdown",
   "metadata": {},
   "source": [
    "Executed in 3ms"
   ]
  },
  {
   "cell_type": "code",
   "execution_count": 4,
   "metadata": {
    "ExecuteTime": {
     "end_time": "2019-05-10T01:36:47.743329Z",
     "start_time": "2019-05-10T01:36:47.736834Z"
    }
   },
   "outputs": [],
   "source": [
    "def read_documents(doc_folder):\n",
    "    \"\"\"Read documents\n",
    "    \n",
    "    Read documents in the given `doc_folder`\n",
    "    \n",
    "    Parameters\n",
    "    ----------\n",
    "    doc_folder: str\n",
    "        Document folder path\n",
    "        \n",
    "    Returns\n",
    "    -------\n",
    "    list\n",
    "        Documents\n",
    "    \"\"\"\n",
    "    article_names = os.listdir(doc_folder)\n",
    "    article_names.sort()\n",
    "    \n",
    "    documents = []\n",
    "\n",
    "    for article_name in article_names:\n",
    "        path = os.path.join(doc_folder, article_name)\n",
    "        with open(path, \"rb\") as f:\n",
    "            try:\n",
    "                doc = f.read().decode(\"utf-8\")\n",
    "            except UnicodeDecodeError as e:\n",
    "                print(article_name, \" has unknown encoding\")\n",
    "                raise e\n",
    "        documents.append(doc)\n",
    "\n",
    "    return documents"
   ]
  },
  {
   "cell_type": "markdown",
   "metadata": {},
   "source": [
    "Executed in 7ms"
   ]
  },
  {
   "cell_type": "code",
   "execution_count": 5,
   "metadata": {
    "ExecuteTime": {
     "end_time": "2019-05-10T01:36:47.749107Z",
     "start_time": "2019-05-10T01:36:47.745203Z"
    }
   },
   "outputs": [],
   "source": [
    "def parse_document_to_sentence(doc):\n",
    "    \"\"\"Parse document to sentences\n",
    "    \n",
    "    This parser assumes every sentence begins with upper-case or digit and\n",
    "    ends with ., ..., ?, ! or whitespace and after each sentence there \n",
    "    must be a whitespace.\n",
    "    \n",
    "    Parameters\n",
    "    ----------\n",
    "    doc: str\n",
    "        Document string to parse\n",
    "        \n",
    "    Returns\n",
    "    -------\n",
    "    list\n",
    "        Sentences\n",
    "    \"\"\"\n",
    "    pat = re.compile(r\"([A-Z0-9].*?)[\\.?!\\s]+\\s\", re.MULTILINE | re.DOTALL)\n",
    "    \n",
    "    return pat.findall(doc)"
   ]
  },
  {
   "cell_type": "markdown",
   "metadata": {},
   "source": [
    "Executed in 4ms"
   ]
  },
  {
   "cell_type": "code",
   "execution_count": 6,
   "metadata": {
    "ExecuteTime": {
     "end_time": "2019-05-10T01:36:47.754438Z",
     "start_time": "2019-05-10T01:36:47.751034Z"
    }
   },
   "outputs": [],
   "source": [
    "def tokenize(doc):\n",
    "    \"\"\"Tokenization Function\n",
    "    \n",
    "    Parameters\n",
    "    ----------\n",
    "    doc: str\n",
    "        String to tokenize\n",
    "        \n",
    "    Returns\n",
    "    -------\n",
    "    list\n",
    "        List of tokens\n",
    "    \"\"\"\n",
    "    return doc.lower().split()"
   ]
  },
  {
   "cell_type": "markdown",
   "metadata": {},
   "source": [
    "Executed in 4ms"
   ]
  },
  {
   "cell_type": "code",
   "execution_count": 7,
   "metadata": {
    "ExecuteTime": {
     "end_time": "2019-05-10T01:36:47.760294Z",
     "start_time": "2019-05-10T01:36:47.756426Z"
    }
   },
   "outputs": [],
   "source": [
    "def parse_documents_to_sentences(documents):\n",
    "    \"\"\"Parse documents\n",
    "\n",
    "    Extract sentences for given `documents`\n",
    "\n",
    "    Parameters\n",
    "    ----------\n",
    "    documents: list\n",
    "        List of documents\n",
    "\n",
    "    Returns\n",
    "    -------\n",
    "    list\n",
    "        Documents parsed to their sentences as numpy array\n",
    "    \"\"\"\n",
    "    return [np.array(parse_document_to_sentence(doc)) for doc in documents]"
   ]
  },
  {
   "cell_type": "markdown",
   "metadata": {},
   "source": [
    "Executed in 5ms"
   ]
  },
  {
   "cell_type": "code",
   "execution_count": 8,
   "metadata": {
    "ExecuteTime": {
     "end_time": "2019-05-10T01:36:47.766227Z",
     "start_time": "2019-05-10T01:36:47.762247Z"
    }
   },
   "outputs": [],
   "source": [
    "def tokenize_sentences(articles_as_sentences):\n",
    "    \"\"\"Tokenize All Articles\n",
    "    \n",
    "    Parameters\n",
    "    ----------\n",
    "    articles_as_sentences: list\n",
    "        List of List of sentences\n",
    "        \n",
    "    Returns\n",
    "    -------\n",
    "    list\n",
    "        List of list of tokenized sentences\n",
    "    \"\"\"\n",
    "    \n",
    "    return [[tokenize(sent) for sent in doc] for doc in articles_as_sentences]"
   ]
  },
  {
   "cell_type": "markdown",
   "metadata": {},
   "source": [
    "Executed in 3ms"
   ]
  },
  {
   "cell_type": "code",
   "execution_count": 9,
   "metadata": {
    "ExecuteTime": {
     "end_time": "2019-05-10T01:36:47.772830Z",
     "start_time": "2019-05-10T01:36:47.768060Z"
    }
   },
   "outputs": [],
   "source": [
    "def tfidf_weights(idf_dict, tokens):\n",
    "    \"\"\"Compute Tf-IDF weights\n",
    "    \n",
    "    For given idf_dict and sentence as `token`\n",
    "    calculates tf-idf scores\n",
    "    \n",
    "    Parameters\n",
    "    ----------\n",
    "    idf_dict: dict\n",
    "        Dictionary of idf scores\n",
    "        \n",
    "    tokens: list\n",
    "        List of tokens represents a sentence\n",
    "        \n",
    "    Returns\n",
    "    -------\n",
    "    dict\n",
    "        Dictionary of tf-idf scores\n",
    "    \"\"\"\n",
    "    cnt_dict = Counter(tokens)\n",
    "    \n",
    "    for word, cnt in cnt_dict.items():\n",
    "        if word in idf_dict:\n",
    "            cnt_dict[word] = cnt * idf_dict[word]\n",
    "            \n",
    "    return cnt_dict"
   ]
  },
  {
   "cell_type": "markdown",
   "metadata": {},
   "source": [
    "Executed in 5ms"
   ]
  },
  {
   "cell_type": "code",
   "execution_count": 10,
   "metadata": {
    "ExecuteTime": {
     "end_time": "2019-05-10T01:36:47.784882Z",
     "start_time": "2019-05-10T01:36:47.775069Z"
    }
   },
   "outputs": [],
   "source": [
    "def sent2vec(sent, word2vec, idf_dict=None, min_max=False):\n",
    "    \"\"\"Sentence to vector\n",
    "    \n",
    "    Transform plain sentence to its vector representation\n",
    "    \n",
    "    Parameters\n",
    "    ----------\n",
    "    sent: str\n",
    "        Sentence\n",
    "    word2vec: dict\n",
    "        Word vectors\n",
    "    idf_dict: dict\n",
    "        Pre-calculated idf scores\n",
    "    max_min: bool\n",
    "        Determine to use concatenation of max and min values of word vectors\n",
    "\n",
    "    Returns\n",
    "    -------\n",
    "    numpy.ndarray\n",
    "        Vector representation of sentence\n",
    "    \"\"\"\n",
    "\n",
    "    words = set(sent)\n",
    "\n",
    "    if min_max:\n",
    "        return np.concatenate([\n",
    "            np.min([\n",
    "                np.array(word2vec[word]) if word in word2vec\n",
    "                else np.array(word2vec[\"unk\"])\n",
    "                for word in words\n",
    "            ],\n",
    "            axis=0),\n",
    "            np.max([\n",
    "                np.array(word2vec[word]) if word in word2vec\n",
    "                else np.array(word2vec[\"unk\"])\n",
    "                for word in words\n",
    "            ],\n",
    "            axis=0)\n",
    "        ])\n",
    "\n",
    "    if idf_dict:\n",
    "        weights = tfidf_weights(idf_dict, sent)\n",
    "    else:\n",
    "        weights = {\n",
    "            word: 1\n",
    "            for word in words\n",
    "        }\n",
    "\n",
    "    return np.mean(\n",
    "        [\n",
    "            np.array(word2vec[word]) * weights[word] if word in word2vec\n",
    "            else np.array(word2vec[\"unk\"]) * weights[word]\n",
    "            for word in words\n",
    "        ],\n",
    "        axis=0,\n",
    "    )"
   ]
  },
  {
   "cell_type": "markdown",
   "metadata": {
    "ExecuteTime": {
     "end_time": "2019-05-05T19:32:20.380464Z",
     "start_time": "2019-05-05T19:32:20.366784Z"
    }
   },
   "source": [
    "Executed in 7ms"
   ]
  },
  {
   "cell_type": "code",
   "execution_count": 11,
   "metadata": {
    "ExecuteTime": {
     "end_time": "2019-05-10T01:36:47.794411Z",
     "start_time": "2019-05-10T01:36:47.789505Z"
    }
   },
   "outputs": [],
   "source": [
    "def article2sentvecs(sentences, word2vec, idf_dict=None, min_max=False):\n",
    "    \"\"\"Converts Article to Sentence Vectors\n",
    "    \n",
    "    Compute each sentence vector as a function of word vectors\n",
    "    \n",
    "    Parameters\n",
    "    ----------\n",
    "    sentences: list\n",
    "        List of sentences of article\n",
    "    \n",
    "    word2vec: dict\n",
    "        Word vector dictionary\n",
    "    \n",
    "    idf_dict: dict\n",
    "        Pre-calculated idf scores\n",
    "\n",
    "    max_min: bool\n",
    "        Determine to use concatenation of max and min values of word vectors\n",
    "        \n",
    "    Returns\n",
    "    -------\n",
    "    numpy.ndarray\n",
    "        Article as sentence vectors\n",
    "    \"\"\"\n",
    "\n",
    "    return np.array([sent2vec(sent, word2vec, idf_dict, min_max) for sent in sentences])"
   ]
  },
  {
   "cell_type": "markdown",
   "metadata": {},
   "source": [
    "Executed in 4ms"
   ]
  },
  {
   "cell_type": "code",
   "execution_count": 12,
   "metadata": {
    "ExecuteTime": {
     "end_time": "2019-05-10T01:36:47.803482Z",
     "start_time": "2019-05-10T01:36:47.797754Z"
    }
   },
   "outputs": [],
   "source": [
    "def all_articles2sentvecs(docs_by_sentences, word2vec, idf_dicts=None, min_max=False):\n",
    "    \"\"\"Articles to sentence vectors\n",
    "\n",
    "    Convert sentences of documents to vectors\n",
    "\n",
    "    Parameters\n",
    "    ----------\n",
    "    docs_by_sentences: list\n",
    "        List of list of sentences\n",
    "\n",
    "    word2vec: dict\n",
    "        Word vectors\n",
    "        \n",
    "    idf_dicts: list\n",
    "        List of pre-calculated idf scores\n",
    "\n",
    "    max_min: bool\n",
    "        Determine to use concatenation of max and min values of word vectors\n",
    "\n",
    "    Returns\n",
    "    -------\n",
    "    list\n",
    "        List of numpy.array, each numpy.array is document representation by its sentences\n",
    "    \"\"\"\n",
    "\n",
    "    if idf_dicts:\n",
    "        return [article2sentvecs(doc, word2vec, idf_dict) for doc, idf_dict in zip(docs_by_sentences, idf_dicts)]\n",
    "    else:\n",
    "        return [article2sentvecs(doc, word2vec, min_max=min_max) for doc in docs_by_sentences]"
   ]
  },
  {
   "cell_type": "markdown",
   "metadata": {},
   "source": [
    "Executed in 5ms"
   ]
  },
  {
   "cell_type": "code",
   "execution_count": 13,
   "metadata": {
    "ExecuteTime": {
     "end_time": "2019-05-10T01:36:47.811608Z",
     "start_time": "2019-05-10T01:36:47.805689Z"
    }
   },
   "outputs": [],
   "source": [
    "def idf_scores(corpus):\n",
    "    \"\"\"Compute Idf Scores\n",
    "    \n",
    "    Computes IDF scores for given `corpus`\n",
    "    \n",
    "    Parameters\n",
    "    ----------\n",
    "    corpus: list\n",
    "        List of documents as string\n",
    "        \n",
    "    Returns\n",
    "    -------\n",
    "    dict\n",
    "        Idf scores of words\n",
    "    \"\"\"\n",
    "    \n",
    "    N = len(corpus)\n",
    "    idf_dict = {}\n",
    "    for doc in corpus:\n",
    "        for word in set(doc):\n",
    "            if word in idf_dict:\n",
    "                idf_dict[word] += 1\n",
    "            else:\n",
    "                idf_dict[word] = 1\n",
    "            \n",
    "    return {\n",
    "        word: log(N / df)\n",
    "        for word, df in idf_dict.items()\n",
    "    }"
   ]
  },
  {
   "cell_type": "markdown",
   "metadata": {},
   "source": [
    "Executed in 7ms"
   ]
  },
  {
   "cell_type": "markdown",
   "metadata": {},
   "source": [
    "# K-Means Clustering\n",
    "## Implementation\n",
    "\n",
    "The loss function is:\n",
    "\n",
    "$\\mathcal{L}$ = ${\\left|\\left| X - CM \\right|\\right|}_{F}$\n",
    "\n",
    "$N$ is the number of sample, $D$ is the input dimension, $k$ is the number of clusters\n",
    "\n",
    "$C \\in \\{0, 1\\}^{N \\times k}$, $M \\in \\mathbb{R}^{k \\times D}$\n",
    "\n",
    "The only constraint we have is $\\sum_{i}{C_{n, i} = 1}$\n",
    "\n",
    "\\begin{align*}\n",
    "    \\mathcal{L}^2 &= {\\left|\\left| X - CM \\right|\\right|}_{F}^2 \\\\\n",
    "                &= trace((X - CM)^T (X - CM)) \\\\\n",
    "                &= trace(X^T X - X^T CM - M^T C^T X + M^T C^T C M)\n",
    "\\end{align*}\n",
    "\n",
    "The partial derivative w.r.t $M$ follows\n",
    "\n",
    "\\begin{align*}\n",
    "    \\frac{\\partial \\mathcal{L}^2}{\\partial M} &= \\frac{\\partial trace(X^T X - X^T CM - M^T C^T X + M^T C^T C M)}{\\partial M} \\\\\n",
    "                                            &= \\frac{\\partial trace(X^T X)}{\\partial M} + \\frac{\\partial trace(- X^T CM)}{\\partial M} + \\frac{\\partial trace(- M^T C^T X)}{\\partial M} + \\frac{\\partial trace(M^T C^T C M)}{\\partial M} \\\\\n",
    "                                            &= 0 - C^T X - C^T X + 2 C^T C M \\\\\n",
    "                                            &= -2 C^T X + 2 C^T C M\n",
    "\\end{align*}\n",
    "\n",
    "And let derivative equals 0\n",
    "\n",
    "\n",
    "\\begin{align*}\n",
    "    \\frac{\\partial \\mathcal{L}^2}{\\partial M} &= -2 C^T X + 2 C^T C M = 0 \\\\\n",
    "    &\\Rightarrow C^T C M = C^T X \\\\\n",
    "    &\\Rightarrow M = (C^T C)^{-1} C^T X\n",
    "\\end{align*}\n",
    "\n",
    "Clusters have been assigned w.r.t. distance by calculated cluster means, which are rows of matrix $M$. So, for each example number $n$, corresponding value in assignment matrix is calculated as $C_{n, k} = 1$ and $C_{n, i} = 0$ for $k \\neq i$, where $k = \\arg\\min_{k}{{\\left|\\left| X_{n, :} - M_{k, :} \\right|\\right|}_2}$. So, we can find cluster assignment in vectorized way as follows:\n",
    "\n",
    "\\begin{align*}\n",
    "    \\arg\\min_{k}{{\\left|\\left| X_{n, :} - M_{k, :} \\right|\\right|}_2} &=  \\arg\\min_{k}{{\\left|\\left| X_{n, :} - M_{k, :} \\right|\\right|}_2^2}\\\\\n",
    "                                                   &= \\arg\\min_{k}{\\sum_{i}{(X_{n, i} - M_{k, i})^2}} \\\\\n",
    "                                                   &= \\arg\\min_{k}{\\sum_{i}{X_{n, i}^2 - 2 X_{n, i} M_{k, i} + M_{k, i}^2}} \\\\\n",
    "                                                   &= \\arg\\min_{k}{\\sum_{i}{- 2 X_{n, i} M_{k, i} + M_{k, i}^2}} \\\\\n",
    "                                                   &= \\arg\\min_{k}{\\sum_{i}{- 2 X_{n, i} M^T_{i, k} + M_{k, i}^2}} \\\\\n",
    "                                                   &= \\arg\\min_{k}{- 2 {X M^T}_{n, k} + \\sum_{i}{M_{k, i}^2}}\n",
    "\\end{align*}"
   ]
  },
  {
   "cell_type": "code",
   "execution_count": 14,
   "metadata": {
    "ExecuteTime": {
     "end_time": "2019-05-10T01:36:47.818255Z",
     "start_time": "2019-05-10T01:36:47.813797Z"
    }
   },
   "outputs": [],
   "source": [
    "def to_onehot(vec, k):\n",
    "    \"\"\"Convert to onehot\n",
    "    \n",
    "    Converts `vec` to its onehot representation\n",
    "    \n",
    "    Parameters\n",
    "    ----------\n",
    "    vec: numpy.ndarray\n",
    "    \n",
    "    k: int\n",
    "        Size of onehot vectors\n",
    "    Returns\n",
    "    -------\n",
    "    numpy.ndarray\n",
    "        Onehot representation of given array\n",
    "    \"\"\"\n",
    "    one_hot_mtx = np.zeros((vec.shape[0], k))\n",
    "    for sample, idx in enumerate(vec):\n",
    "        one_hot_mtx[sample, idx] = 1\n",
    "        \n",
    "    return one_hot_mtx"
   ]
  },
  {
   "cell_type": "markdown",
   "metadata": {},
   "source": [
    "Executed in 5ms"
   ]
  },
  {
   "cell_type": "code",
   "execution_count": 15,
   "metadata": {
    "ExecuteTime": {
     "end_time": "2019-05-10T01:36:47.832880Z",
     "start_time": "2019-05-10T01:36:47.820586Z"
    }
   },
   "outputs": [],
   "source": [
    "def K_means(data, k, verbose=False):\n",
    "    \"\"\"K-Means clustering\n",
    "    \n",
    "    Given the `data` in shape (N, D) where N is the number of examples\n",
    "    and D is the number of features, it calculates `k` cluster center\n",
    "    that represents the data most. Maths behind this implementation is detailed\n",
    "    above.\n",
    "    \n",
    "    Parameters\n",
    "    ----------\n",
    "    data: numpy.ndarray\n",
    "        Data\n",
    "    k: int\n",
    "        Number of Clusters\n",
    "    Verbose: bool\n",
    "        Print loss in each iteration if True\n",
    "        \n",
    "    Returns\n",
    "    -------\n",
    "    M: numpy.ndarray\n",
    "        Cluster centers\n",
    "    C: numpy.ndarray\n",
    "        Data assignments\n",
    "    loss: float\n",
    "        Last calculated loss\n",
    "    \"\"\"\n",
    "    num_samples, input_dim = data.shape\n",
    "    \n",
    "\n",
    "    M = data[np.random.choice(num_samples, k, replace=False), :]\n",
    "    C = to_onehot(np.argmin(-2 * np.dot(data, M.T) + np.power(M, 2).sum(axis=1)[np.newaxis, :], axis=1), k)\n",
    "    prev_C = np.zeros_like(C)\n",
    "    \n",
    "    loss = np.linalg.norm(data - np.dot(C, M), ord=\"fro\")\n",
    "    \n",
    "    while not np.all(C == prev_C):\n",
    "        if verbose:\n",
    "            print(\"Loss: {}\".format(loss))\n",
    "        prev_C = C\n",
    "        \n",
    "        M = np.dot(np.dot(np.linalg.pinv(np.dot(C.T, C)), C.T), data)\n",
    "        C = to_onehot(np.argmin(-2 * np.dot(data, M.T) + np.power(M, 2).sum(axis=1)[np.newaxis, :], axis=1), k)\n",
    "\n",
    "        loss = np.linalg.norm(data - np.dot(C, M), ord=\"fro\")\n",
    "        \n",
    "    return M, C, loss"
   ]
  },
  {
   "cell_type": "markdown",
   "metadata": {},
   "source": [
    "Eexecuted in 13ms"
   ]
  },
  {
   "cell_type": "markdown",
   "metadata": {},
   "source": [
    "## Testing K-Means\n",
    "\n",
    "In this part, I have created fake dataset and tested my implementation of k-means clustering algorithm with the fake dataset"
   ]
  },
  {
   "cell_type": "code",
   "execution_count": 16,
   "metadata": {
    "ExecuteTime": {
     "end_time": "2019-05-10T01:36:48.115049Z",
     "start_time": "2019-05-10T01:36:47.835173Z"
    }
   },
   "outputs": [],
   "source": [
    "import matplotlib.pyplot as plt"
   ]
  },
  {
   "cell_type": "markdown",
   "metadata": {},
   "source": [
    "Executed in 284ms"
   ]
  },
  {
   "cell_type": "code",
   "execution_count": 17,
   "metadata": {
    "ExecuteTime": {
     "end_time": "2019-05-10T01:36:48.122464Z",
     "start_time": "2019-05-10T01:36:48.117469Z"
    }
   },
   "outputs": [],
   "source": [
    "# 3 Different centers\n",
    "data1 = np.random.rand(50, 2) * 3 + 5\n",
    "data2 = np.random.rand(30, 2) * 3\n",
    "data3 = np.random.rand(40, 2) * 3 + 10\n",
    "\n",
    "data = np.concatenate([data1, data2, data3])"
   ]
  },
  {
   "cell_type": "markdown",
   "metadata": {},
   "source": [
    "Executed in 5ms"
   ]
  },
  {
   "cell_type": "markdown",
   "metadata": {},
   "source": [
    "### Plot dataset"
   ]
  },
  {
   "cell_type": "code",
   "execution_count": 18,
   "metadata": {
    "ExecuteTime": {
     "end_time": "2019-05-10T01:36:48.439402Z",
     "start_time": "2019-05-10T01:36:48.124788Z"
    }
   },
   "outputs": [
    {
     "data": {
      "text/plain": [
       "[<matplotlib.lines.Line2D at 0x10afa3cf8>]"
      ]
     },
     "execution_count": 18,
     "metadata": {},
     "output_type": "execute_result"
    },
    {
     "data": {
      "image/png": "[encoded data removed]",
      "text/plain": [
       "<Figure size 1440x720 with 1 Axes>"
      ]
     },
     "metadata": {
      "needs_background": "light"
     },
     "output_type": "display_data"
    }
   ],
   "source": [
    "plt.figure(figsize=(20, 10))\n",
    "plt.plot(data[:, 0], data[:, 1], \"o\")"
   ]
  },
  {
   "cell_type": "markdown",
   "metadata": {},
   "source": [
    "Executed in 317ms"
   ]
  },
  {
   "cell_type": "markdown",
   "metadata": {},
   "source": [
    "### Plot dataset with cluster centers"
   ]
  },
  {
   "cell_type": "code",
   "execution_count": 38,
   "metadata": {
    "ExecuteTime": {
     "end_time": "2019-05-10T01:42:09.156996Z",
     "start_time": "2019-05-10T01:42:08.865848Z"
    }
   },
   "outputs": [
    {
     "data": {
      "text/plain": [
       "[<matplotlib.lines.Line2D at 0x10b268c88>]"
      ]
     },
     "execution_count": 38,
     "metadata": {},
     "output_type": "execute_result"
    },
    {
     "data": {
      "image/png": "[encoded data removed]",
      "text/plain": [
       "<Figure size 1440x720 with 1 Axes>"
      ]
     },
     "metadata": {
      "needs_background": "light"
     },
     "output_type": "display_data"
    }
   ],
   "source": [
    "M, C, loss = K_means(data, 3)\n",
    "plt.figure(figsize=(20, 10))\n",
    "plt.plot(data[:, 0], data[:, 1], \"o\")\n",
    "plt.plot(M[:, 0], M[:, 1], \"rx\")"
   ]
  },
  {
   "cell_type": "markdown",
   "metadata": {},
   "source": [
    "Executed in 301ms"
   ]
  },
  {
   "cell_type": "markdown",
   "metadata": {},
   "source": [
    "# Clustering and Finding Most Representative Sentences"
   ]
  },
  {
   "cell_type": "markdown",
   "metadata": {},
   "source": [
    "## Find Most Representative Sentences for Given Cluster Centers"
   ]
  },
  {
   "cell_type": "code",
   "execution_count": 20,
   "metadata": {
    "ExecuteTime": {
     "end_time": "2019-05-10T01:36:48.741061Z",
     "start_time": "2019-05-10T01:36:48.735234Z"
    }
   },
   "outputs": [],
   "source": [
    "def find_most_repr_sent_in_cluster(data, M):\n",
    "    \"\"\"Find Most Representative Sentences\n",
    "    \n",
    "    Parameters\n",
    "    ----------\n",
    "    data: numpy.ndarray\n",
    "        Document representation\n",
    "        \n",
    "    M: numpy.ndarray\n",
    "        Cluster centers\n",
    "        \n",
    "    Returns\n",
    "    -------\n",
    "    numpy.ndarray\n",
    "        Indices of sentences which are most representative ones\n",
    "    \"\"\"\n",
    "    return np.argmin(-2 * np.dot(data, M.T) + np.power(M, 2).sum(axis=1)[np.newaxis, :], axis=0)"
   ]
  },
  {
   "cell_type": "markdown",
   "metadata": {},
   "source": [
    "Executed in 7ms"
   ]
  },
  {
   "cell_type": "markdown",
   "metadata": {},
   "source": [
    "## Find Cluster Centers and Most Representative Sentences"
   ]
  },
  {
   "cell_type": "code",
   "execution_count": 21,
   "metadata": {
    "ExecuteTime": {
     "end_time": "2019-05-10T01:36:48.750270Z",
     "start_time": "2019-05-10T01:36:48.743617Z"
    }
   },
   "outputs": [],
   "source": [
    "def cluster(doc_vectors, num_k_means_trial, k_formula):\n",
    "    \"\"\"Cluster and return most represntative sentence indices\n",
    "    \n",
    "    Parameters\n",
    "    ----------\n",
    "    doc_vectors: numpy.ndarray\n",
    "        Document representation by sentence vectors\n",
    "        \n",
    "    num_k_means_trial: int\n",
    "        Number of k-means trial select best one\n",
    "        \n",
    "    Returns\n",
    "    -------\n",
    "    numpy.ndarray\n",
    "        List of most representative indices\n",
    "    \"\"\"\n",
    "    k = max(1, int(k_formula(len(doc_vectors))))\n",
    "\n",
    "    k_means = []\n",
    "    min_loss_model = -1\n",
    "    min_loss = float(\"inf\")\n",
    "\n",
    "    for i in range(num_k_means_trial):\n",
    "        M, C, loss = K_means(doc_vectors, k)\n",
    "        if loss < min_loss:\n",
    "            min_loss = loss\n",
    "            min_loss_model = i\n",
    "            \n",
    "        k_means.append(M)\n",
    "        \n",
    "    best_means = k_means[min_loss_model]\n",
    "    repr_sentences = find_most_repr_sent_in_cluster(doc_vectors, best_means)\n",
    "\n",
    "    return repr_sentences"
   ]
  },
  {
   "cell_type": "markdown",
   "metadata": {},
   "source": [
    "Executed in 10ms"
   ]
  },
  {
   "cell_type": "markdown",
   "metadata": {},
   "source": [
    "# Extract Summary"
   ]
  },
  {
   "cell_type": "code",
   "execution_count": 22,
   "metadata": {
    "ExecuteTime": {
     "end_time": "2019-05-10T01:36:48.758424Z",
     "start_time": "2019-05-10T01:36:48.752959Z"
    }
   },
   "outputs": [],
   "source": [
    "def extract_summary(doc_vectors, doc_sentences, k_means_trial=5, k_formula=lambda n: n * 0.5):\n",
    "    \"\"\"Extracts Summary\n",
    "    \n",
    "    Parameters\n",
    "    ----------\n",
    "    doc_vectors: numpy.ndarray\n",
    "        Document representation by sentence vectors\n",
    "    doc_sentences: numpy.ndarray\n",
    "        Document representation by its sentences\n",
    "        \n",
    "    Returns\n",
    "    -------\n",
    "    str\n",
    "        Summary of document\n",
    "    \"\"\"\n",
    "    most_repr_sentences = cluster(doc_vectors, k_means_trial, k_formula)\n",
    "    return \". \".join(list(set(doc_sentences[most_repr_sentences])))"
   ]
  },
  {
   "cell_type": "markdown",
   "metadata": {},
   "source": [
    "Executed in 7ms"
   ]
  },
  {
   "cell_type": "markdown",
   "metadata": {},
   "source": [
    "# Evaluation"
   ]
  },
  {
   "cell_type": "code",
   "execution_count": 23,
   "metadata": {
    "ExecuteTime": {
     "end_time": "2019-05-10T01:36:48.766721Z",
     "start_time": "2019-05-10T01:36:48.760829Z"
    }
   },
   "outputs": [],
   "source": [
    "def evaluation(gold_summaries, extracted_summaries):\n",
    "    \"\"\"Evaluation of summaries\n",
    "    \n",
    "    Parameters\n",
    "    ----------\n",
    "    gold_summaries: list\n",
    "        Reference summaries\n",
    "    extracted_summaries: list\n",
    "        Extracted summaries by the model\n",
    "        \n",
    "    Returns\n",
    "    -------\n",
    "    list\n",
    "        Rough scores as tuple (rouge-1.f, rouge-2.f, rouge-l.f)\n",
    "    \"\"\"\n",
    "    rouge = Rouge()\n",
    "    rouge_scores = []\n",
    "    for hyp, ref in zip(gold_summaries, extracted_summaries):\n",
    "        scores = rouge.get_scores(hyp, ref)[0]\n",
    "        rouge_scores.append((scores[\"rouge-1\"][\"f\"], scores[\"rouge-2\"][\"f\"], scores[\"rouge-l\"][\"f\"]))\n",
    "    return rouge_scores"
   ]
  },
  {
   "cell_type": "markdown",
   "metadata": {},
   "source": [
    "Executed in 8ms"
   ]
  },
  {
   "cell_type": "markdown",
   "metadata": {
    "ExecuteTime": {
     "end_time": "2019-05-05T17:09:43.345082Z",
     "start_time": "2019-05-05T17:09:43.342130Z"
    }
   },
   "source": [
    "# Model Construction"
   ]
  },
  {
   "cell_type": "markdown",
   "metadata": {},
   "source": [
    "## Data Manipulation"
   ]
  },
  {
   "cell_type": "markdown",
   "metadata": {},
   "source": [
    "### Split Train and Test"
   ]
  },
  {
   "cell_type": "code",
   "execution_count": 24,
   "metadata": {
    "ExecuteTime": {
     "end_time": "2019-05-10T01:36:48.776997Z",
     "start_time": "2019-05-10T01:36:48.769520Z"
    }
   },
   "outputs": [],
   "source": [
    "def split_train_test(articles, gold_summaries, test_ratio=0.1):\n",
    "    \"\"\"Split Train and Test Data\n",
    "    \n",
    "    Parameters\n",
    "    ----------\n",
    "    articles: list\n",
    "        List of input articles\n",
    "    gold_summaries: list\n",
    "        List of label gold summaries\n",
    "    test_ratio: float\n",
    "        Test set ratio\n",
    "        \n",
    "    Returns\n",
    "    -------\n",
    "    tuple\n",
    "        Train input\n",
    "    tuple\n",
    "        Train label\n",
    "    tuple\n",
    "        Test input\n",
    "    tuple\n",
    "        Test label\n",
    "    \"\"\"\n",
    "    assert len(articles) == len(gold_summaries)\n",
    "    num_examples = len(articles)\n",
    "    indices = list(range(num_examples))\n",
    "    random.shuffle(indices)\n",
    "    num_train_example = int((1 - test_ratio) * num_examples)\n",
    "    test_indices = indices[num_train_example:]\n",
    "    train_indices = indices[:num_train_example]\n",
    "    train_getter = itemgetter(*train_indices)\n",
    "    test_getter = itemgetter(*test_indices)\n",
    "\n",
    "    return train_getter(articles), train_getter(gold_summaries), test_getter(articles), test_getter(gold_summaries)"
   ]
  },
  {
   "cell_type": "markdown",
   "metadata": {},
   "source": [
    "Executed in 9ms"
   ]
  },
  {
   "cell_type": "markdown",
   "metadata": {},
   "source": [
    "### Split Data Into K-Folds"
   ]
  },
  {
   "cell_type": "code",
   "execution_count": 25,
   "metadata": {
    "ExecuteTime": {
     "end_time": "2019-05-10T01:36:48.786261Z",
     "start_time": "2019-05-10T01:36:48.779248Z"
    }
   },
   "outputs": [],
   "source": [
    "def kfolds(x, y, k=5):\n",
    "    \"\"\"K-Fold Cross Validation\n",
    "    \n",
    "    Parameters\n",
    "    ----------\n",
    "    x: list\n",
    "        Input data\n",
    "    y: list\n",
    "        Output data\n",
    "    k: int\n",
    "        Number of folds\n",
    "        \n",
    "    Yields\n",
    "    ------\n",
    "    tuple\n",
    "        Train input for fold i\n",
    "    tuple\n",
    "        Train output for fold i\n",
    "    tuple\n",
    "        Validation input for fold i\n",
    "    tuple\n",
    "        Validation output for fold i\n",
    "    \"\"\"\n",
    "    assert len(x) == len(y)\n",
    "    \n",
    "    num_samples = len(x)\n",
    "    indices = list(range(num_samples))\n",
    "    random.shuffle(indices)\n",
    "    fold_size = num_samples // k\n",
    "    \n",
    "    for i in range(0, num_samples, fold_size):\n",
    "        valid_indices = indices[i: i + fold_size]\n",
    "        train_indices = indices[:i] + indices[i + fold_size:]\n",
    "        valid_getter = itemgetter(*valid_indices)\n",
    "        train_getter = itemgetter(*train_indices)\n",
    "        \n",
    "        yield train_getter(x), train_getter(y), valid_getter(x), valid_getter(y)"
   ]
  },
  {
   "cell_type": "markdown",
   "metadata": {},
   "source": [
    "Executed in 12ms"
   ]
  },
  {
   "cell_type": "markdown",
   "metadata": {},
   "source": [
    "## Get Scores for given dataset"
   ]
  },
  {
   "cell_type": "code",
   "execution_count": 26,
   "metadata": {
    "ExecuteTime": {
     "end_time": "2019-05-10T01:36:48.796269Z",
     "start_time": "2019-05-10T01:36:48.788506Z"
    }
   },
   "outputs": [],
   "source": [
    "def get_r_scores(articles, gold_summaries, use_tfidf, k_means_trial, k_formula, max_min):\n",
    "    \"\"\"Get Rouge Scores\n",
    "    \n",
    "    Extracts summaries and computes rouge scores for given `articles` and `gold_summaries`\n",
    "    \n",
    "    Parameters\n",
    "    ----------\n",
    "    articles: list\n",
    "        List of articles to extract summaries\n",
    "    \n",
    "    gold_summaries: list\n",
    "        List of gold summaries\n",
    "    \n",
    "    use_tfidf: bool\n",
    "        If true calculate and use tf-idf scores\n",
    "    \n",
    "    k_means_trial: int\n",
    "        Number of trials for k-means algorithm\n",
    "\n",
    "    k_formula: function\n",
    "        Rule for k in k-means algorithm\n",
    "\n",
    "    max_min: bool\n",
    "        Determine to use concatenation of max and min values of word vectors\n",
    "        \n",
    "    \"\"\"\n",
    "    sentences = parse_documents_to_sentences(articles)\n",
    "    tokens = tokenize_sentences(sentences)\n",
    "\n",
    "    if use_tfidf:\n",
    "        idf_dicts = [idf_scores(docs) for docs in tokens]\n",
    "    else:\n",
    "        idf_dicts = None\n",
    "\n",
    "    doc_vectors = all_articles2sentvecs(tokens, word_vectors, idf_dicts, max_min)\n",
    "\n",
    "    summaries = [\n",
    "        extract_summary(doc_vector, doc_sentences, k_means_trial, k_formula)\n",
    "        for doc_vector, doc_sentences in zip(doc_vectors, sentences)\n",
    "    ]\n",
    "    r_scores = evaluation(gold_summaries, summaries)\n",
    "    r_scores_avg = np.array(r_scores).mean(axis=0)\n",
    "\n",
    "    return r_scores_avg\n"
   ]
  },
  {
   "cell_type": "markdown",
   "metadata": {},
   "source": [
    "Executed in 10ms"
   ]
  },
  {
   "cell_type": "markdown",
   "metadata": {},
   "source": [
    "## Validate and Report Given Train and Test Sets"
   ]
  },
  {
   "cell_type": "code",
   "execution_count": 27,
   "metadata": {
    "ExecuteTime": {
     "end_time": "2019-05-10T01:36:48.811584Z",
     "start_time": "2019-05-10T01:36:48.798653Z"
    }
   },
   "outputs": [],
   "source": [
    "def validate_and_report(train_articles, train_gold_summaries,\n",
    "                        test_articles, test_gold_summaries,\n",
    "                        k,\n",
    "                        use_tfidf,\n",
    "                        k_means_trial,\n",
    "                        k_formula,\n",
    "                        max_min=False):\n",
    "    \n",
    "    \"\"\"Compute Validation Scores and Test Score\n",
    "    \n",
    "    Parameters\n",
    "    ----------\n",
    "    train_articles: list\n",
    "        Train input set\n",
    "\n",
    "    train_gold_summaries: list\n",
    "        Train label set\n",
    "    \n",
    "    test_articles: list\n",
    "        Test input set\n",
    "    \n",
    "    test_gold_summaries: list\n",
    "        Test label set\n",
    "\n",
    "    k: int\n",
    "        k parameter for k-folds validation\n",
    "    \n",
    "    use_tfidf: bool\n",
    "        If true calculate and use tf-idf scores\n",
    "\n",
    "    k_means_trial: int\n",
    "        Number of trials for k-means algorithm\n",
    "\n",
    "    k_formula: function\n",
    "        Rule for k in k-means algorithm\n",
    "\n",
    "    max_min: bool\n",
    "        Determine to use concatenation of max and min values of word vectors\n",
    "    \"\"\"\n",
    "\n",
    "    r1 = []\n",
    "    r2 = []\n",
    "    rL = []\n",
    "    for t_articles, t_gold_summaries, v_articles, v_gold_summaries in kfolds(train_articles, train_gold_summaries, k=k):\n",
    "        r1_, r2_, rL_ = get_r_scores(\n",
    "            v_articles,\n",
    "            v_gold_summaries,\n",
    "            use_tfidf=use_tfidf,\n",
    "            k_means_trial=k_means_trial,\n",
    "            k_formula=k_formula,\n",
    "            max_min=max_min\n",
    "        )\n",
    "        r1.append(r1_)\n",
    "        r2.append(r2_)\n",
    "        rL.append(rL_)\n",
    "\n",
    "    def get_statistics(r):\n",
    "        return np.mean(r), np.std(r)\n",
    "\n",
    "    mean_r1, std_r1 = get_statistics(r1)\n",
    "    mean_r2, std_r2 = get_statistics(r2)\n",
    "    mean_rL, std_rL = get_statistics(rL)\n",
    "\n",
    "    def report(name, mean, std):\n",
    "        print(\"{}: {} +/- {}\".format(name, mean, std))\n",
    "\n",
    "    print(\"Validation Scores\")\n",
    "    print(\"-----------------\")\n",
    "    report(\"Rouge 1\", mean_r1, std_r1)\n",
    "    report(\"Rouge 2\", mean_r2, std_r2)\n",
    "    report(\"Rouge L\", mean_rL, std_rL)\n",
    "\n",
    "    r1_t, r2_t, rL_t = get_r_scores(\n",
    "        test_articles,\n",
    "        test_gold_summaries,\n",
    "        use_tfidf=use_tfidf,\n",
    "        k_means_trial=k_means_trial,\n",
    "        k_formula=k_formula,\n",
    "        max_min=max_min\n",
    "    )\n",
    "\n",
    "    print(\"Test Scores\")\n",
    "    print(\"-----------\")\n",
    "    print(\"Rouge 1: {}\".format(r1_t))\n",
    "    print(\"Rouge 2: {}\".format(r2_t))\n",
    "    print(\"Rouge L: {}\".format(rL_t))\n",
    "    \n",
    "    return r1, r2, rL, r1_t, r2_t, rL_t"
   ]
  },
  {
   "cell_type": "markdown",
   "metadata": {},
   "source": [
    "Executed in 17ms"
   ]
  },
  {
   "cell_type": "markdown",
   "metadata": {},
   "source": [
    "## Loading Word Vectors"
   ]
  },
  {
   "cell_type": "code",
   "execution_count": 28,
   "metadata": {
    "ExecuteTime": {
     "end_time": "2019-05-10T01:37:00.572160Z",
     "start_time": "2019-05-10T01:36:48.813799Z"
    }
   },
   "outputs": [],
   "source": [
    "with open(VECTOR_PATH, \"rb\") as f:\n",
    "    word_vectors = pickle.load(f)"
   ]
  },
  {
   "cell_type": "markdown",
   "metadata": {},
   "source": [
    "Executed in 12.4s"
   ]
  },
  {
   "cell_type": "markdown",
   "metadata": {},
   "source": [
    "## Load Dataset"
   ]
  },
  {
   "cell_type": "code",
   "execution_count": 29,
   "metadata": {
    "ExecuteTime": {
     "end_time": "2019-05-10T01:37:01.917606Z",
     "start_time": "2019-05-10T01:37:00.576252Z"
    }
   },
   "outputs": [],
   "source": [
    "articles = read_documents(ARTICLES_PATH)\n",
    "gold_summaries = read_documents(GOLD_SUMMARIES_PATH)"
   ]
  },
  {
   "cell_type": "markdown",
   "metadata": {},
   "source": [
    "Executed in 1.41s"
   ]
  },
  {
   "cell_type": "code",
   "execution_count": 30,
   "metadata": {
    "ExecuteTime": {
     "end_time": "2019-05-10T01:37:01.929391Z",
     "start_time": "2019-05-10T01:37:01.919591Z"
    }
   },
   "outputs": [],
   "source": [
    "train_articles, train_gold_summaries, test_articles, test_gold_summaries = split_train_test(articles, gold_summaries, test_ratio=0.1)"
   ]
  },
  {
   "cell_type": "markdown",
   "metadata": {},
   "source": [
    "Executed in 6ms"
   ]
  },
  {
   "cell_type": "markdown",
   "metadata": {},
   "source": [
    "# Models"
   ]
  },
  {
   "cell_type": "code",
   "execution_count": 31,
   "metadata": {
    "ExecuteTime": {
     "end_time": "2019-05-10T01:37:01.935027Z",
     "start_time": "2019-05-10T01:37:01.932104Z"
    }
   },
   "outputs": [],
   "source": [
    "models = {}"
   ]
  },
  {
   "cell_type": "markdown",
   "metadata": {},
   "source": [
    "## Model 1\n",
    "\n",
    "-  TF-IDF Weighted with $k = N * 0.5$ where k is parameter for k-Means and N is the number of documents"
   ]
  },
  {
   "cell_type": "code",
   "execution_count": 32,
   "metadata": {
    "ExecuteTime": {
     "end_time": "2019-05-10T01:37:59.504320Z",
     "start_time": "2019-05-10T01:37:01.937041Z"
    }
   },
   "outputs": [
    {
     "name": "stdout",
     "output_type": "stream",
     "text": [
      "Validation Scores\n",
      "-----------------\n",
      "Rouge 1: 0.3138807551945197 +/- 0.01330024201940285\n",
      "Rouge 2: 0.16428812301861814 +/- 0.0075664047853397495\n",
      "Rouge L: 0.265672261467417 +/- 0.018782543683258896\n",
      "Test Scores\n",
      "-----------\n",
      "Rouge 1: 0.3136756499362745\n",
      "Rouge 2: 0.17283205926175899\n",
      "Rouge L: 0.26061935309124507\n"
     ]
    }
   ],
   "source": [
    "use_tfidf = True\n",
    "k_formula = lambda n: n * 0.5\n",
    "k_means_trial = 5\n",
    "k = 5\n",
    "\n",
    "models[\"model_1\"] = validate_and_report(train_articles, train_gold_summaries, test_articles, test_gold_summaries, k, use_tfidf, k_means_trial, k_formula)"
   ]
  },
  {
   "cell_type": "markdown",
   "metadata": {},
   "source": [
    "Executed in 59.0s"
   ]
  },
  {
   "cell_type": "markdown",
   "metadata": {},
   "source": [
    "## Model 2\n",
    "\n",
    "-  TF-IDF Weighted with $k = N^{0.5}$ where k is parameter for k-Means and N is the number of documents"
   ]
  },
  {
   "cell_type": "code",
   "execution_count": 33,
   "metadata": {
    "ExecuteTime": {
     "end_time": "2019-05-10T01:38:42.203598Z",
     "start_time": "2019-05-10T01:37:59.506528Z"
    }
   },
   "outputs": [
    {
     "name": "stdout",
     "output_type": "stream",
     "text": [
      "Validation Scores\n",
      "-----------------\n",
      "Rouge 1: 0.23351955834652763 +/- 0.007276604755786646\n",
      "Rouge 2: 0.12092611615947847 +/- 0.017515795391005503\n",
      "Rouge L: 0.17485097922204307 +/- 0.014242744230508452\n",
      "Test Scores\n",
      "-----------\n",
      "Rouge 1: 0.23996071313547654\n",
      "Rouge 2: 0.1252426394931281\n",
      "Rouge L: 0.17573694453901628\n"
     ]
    }
   ],
   "source": [
    "use_tfidf = True\n",
    "k_formula = lambda n: n ** 0.5\n",
    "k_means_trial = 5\n",
    "k = 5\n",
    "\n",
    "models[\"model_2\"] = validate_and_report(train_articles, train_gold_summaries, test_articles, test_gold_summaries, k, use_tfidf, k_means_trial, k_formula)"
   ]
  },
  {
   "cell_type": "markdown",
   "metadata": {},
   "source": [
    "Executed in 42.4s"
   ]
  },
  {
   "cell_type": "markdown",
   "metadata": {},
   "source": [
    "## Model 3\n",
    "-  Simple averaged word vectors with $k = N * 0.5$ where k is parameter for k-Means and N is the number of documents"
   ]
  },
  {
   "cell_type": "code",
   "execution_count": 34,
   "metadata": {
    "ExecuteTime": {
     "end_time": "2019-05-10T01:39:34.129289Z",
     "start_time": "2019-05-10T01:38:42.205666Z"
    }
   },
   "outputs": [
    {
     "name": "stdout",
     "output_type": "stream",
     "text": [
      "Validation Scores\n",
      "-----------------\n",
      "Rouge 1: 0.36561013801095044 +/- 0.07376525974701638\n",
      "Rouge 2: 0.22455770412020218 +/- 0.07473028897823449\n",
      "Rouge L: 0.2958515588051161 +/- 0.07101035599013034\n",
      "Test Scores\n",
      "-----------\n",
      "Rouge 1: 0.3401193042202834\n",
      "Rouge 2: 0.1941739007667359\n",
      "Rouge L: 0.2705203705228563\n"
     ]
    }
   ],
   "source": [
    "use_tfidf = False\n",
    "k_formula = lambda n: n * 0.5\n",
    "k_means_trial = 5\n",
    "k = 5\n",
    "\n",
    "models[\"model_3\"] = validate_and_report(train_articles, train_gold_summaries, test_articles, test_gold_summaries, k, use_tfidf, k_means_trial, k_formula)"
   ]
  },
  {
   "cell_type": "markdown",
   "metadata": {},
   "source": [
    "Executed in 51.0s"
   ]
  },
  {
   "cell_type": "markdown",
   "metadata": {},
   "source": [
    "## Model 4\n",
    "-  Simple averaged word vectors with $k = N^{0.5}$ where k is parameter for k-Means and N is the number of documents"
   ]
  },
  {
   "cell_type": "code",
   "execution_count": 35,
   "metadata": {
    "ExecuteTime": {
     "end_time": "2019-05-10T01:40:12.229539Z",
     "start_time": "2019-05-10T01:39:34.131616Z"
    }
   },
   "outputs": [
    {
     "name": "stdout",
     "output_type": "stream",
     "text": [
      "Validation Scores\n",
      "-----------------\n",
      "Rouge 1: 0.27224630417854806 +/- 0.05249745822626917\n",
      "Rouge 2: 0.16021317414538694 +/- 0.06226529346964651\n",
      "Rouge L: 0.18846047443213343 +/- 0.03675553521039302\n",
      "Test Scores\n",
      "-----------\n",
      "Rouge 1: 0.24841624415390184\n",
      "Rouge 2: 0.12607263352127143\n",
      "Rouge L: 0.1724302625807228\n"
     ]
    }
   ],
   "source": [
    "use_tfidf = False\n",
    "k_formula = lambda n: n ** 0.5\n",
    "k_means_trial = 5\n",
    "k = 5\n",
    "\n",
    "models[\"model_4\"] = validate_and_report(train_articles, train_gold_summaries, test_articles, test_gold_summaries, k, use_tfidf, k_means_trial, k_formula)"
   ]
  },
  {
   "cell_type": "markdown",
   "metadata": {},
   "source": [
    "Executed in 38.3s"
   ]
  },
  {
   "cell_type": "markdown",
   "metadata": {},
   "source": [
    "## Model 5\n",
    "-  Using concatenation of minimum and maximum values of word vectors"
   ]
  },
  {
   "cell_type": "code",
   "execution_count": 36,
   "metadata": {
    "ExecuteTime": {
     "end_time": "2019-05-10T01:41:19.034239Z",
     "start_time": "2019-05-10T01:40:12.232786Z"
    }
   },
   "outputs": [
    {
     "name": "stdout",
     "output_type": "stream",
     "text": [
      "Validation Scores\n",
      "-----------------\n",
      "Rouge 1: 0.4204171261020373 +/- 0.01911322732325957\n",
      "Rouge 2: 0.2964475281645717 +/- 0.01749519206468353\n",
      "Rouge L: 0.35244491925848154 +/- 0.019292739815753954\n",
      "Test Scores\n",
      "-----------\n",
      "Rouge 1: 0.44109590561190726\n",
      "Rouge 2: 0.3195218860568742\n",
      "Rouge L: 0.3727011832048944\n"
     ]
    }
   ],
   "source": [
    "use_tfidf = False\n",
    "max_min = True\n",
    "k_formula = lambda n: n * 0.5\n",
    "k_means_trial = 5\n",
    "k = 5\n",
    "\n",
    "models[\"model_5\"] = validate_and_report(train_articles, train_gold_summaries, test_articles, test_gold_summaries, k, use_tfidf, k_means_trial, k_formula, max_min)"
   ]
  },
  {
   "cell_type": "markdown",
   "metadata": {},
   "source": [
    "# Results Table"
   ]
  },
  {
   "cell_type": "code",
   "execution_count": 37,
   "metadata": {
    "ExecuteTime": {
     "end_time": "2019-05-10T01:41:19.053036Z",
     "start_time": "2019-05-10T01:41:19.036763Z"
    }
   },
   "outputs": [
    {
     "name": "stdout",
     "output_type": "stream",
     "text": [
      "|Model    |Metric   |Validation Score|Test Score|\n",
      "|---------|---------|----------------|----------|\n",
      "|         |Rouge - 1| 0.31 +/- 0.01  |   0.31   |\n",
      "|Model - 1|Rouge - 2| 0.16 +/- 0.01  |   0.17   |\n",
      "|         |Rouge - L| 0.27 +/- 0.02  |   0.26   |\n",
      "|---------|---------|----------------|----------|\n",
      "|         |Rouge - 1| 0.23 +/- 0.01  |   0.24   |\n",
      "|Model - 2|Rouge - 2| 0.12 +/- 0.02  |   0.13   |\n",
      "|         |Rouge - L| 0.17 +/- 0.01  |   0.18   |\n",
      "|---------|---------|----------------|----------|\n",
      "|         |Rouge - 1| 0.37 +/- 0.07  |   0.34   |\n",
      "|Model - 3|Rouge - 2| 0.22 +/- 0.07  |   0.19   |\n",
      "|         |Rouge - L| 0.30 +/- 0.07  |   0.27   |\n",
      "|---------|---------|----------------|----------|\n",
      "|         |Rouge - 1| 0.27 +/- 0.05  |   0.25   |\n",
      "|Model - 4|Rouge - 2| 0.16 +/- 0.06  |   0.13   |\n",
      "|         |Rouge - L| 0.19 +/- 0.04  |   0.17   |\n",
      "|---------|---------|----------------|----------|\n",
      "|         |Rouge - 1| 0.42 +/- 0.02  |   0.44   |\n",
      "|Model - 5|Rouge - 2| 0.30 +/- 0.02  |   0.32   |\n",
      "|         |Rouge - L| 0.35 +/- 0.02  |   0.37   |\n"
     ]
    }
   ],
   "source": [
    "model_h = \"|Model    \"\n",
    "metric_h = \"|Metric   \"\n",
    "val_h = \"|Validation Score\"\n",
    "test_h = \"|Test Score|\"\n",
    "header = model_h + metric_h + val_h + test_h\n",
    "sep = \"|\" + \"-\" * (len(model_h) - 1) + \"|\" + \"-\" * (len(metric_h) - 1) + \"|\" + \"-\" * (len(val_h) - 1) + \"|\" + \"-\" * (len(test_h) - 2) + \"|\"\n",
    "print(header)\n",
    "\n",
    "for model in models:\n",
    "    r1, r2, rL, r1_t, r2_t, rL_t = models[model]\n",
    "\n",
    "    print(sep)\n",
    "    print(\"|         |Rouge - 1| {:.2f} +/- {:.2f}  |   {:.2f}   |\".format(np.mean(r1), np.std(r1), r1_t))\n",
    "    print(\"|{}|Rouge - 2| {:.2f} +/- {:.2f}  |   {:.2f}   |\".format(model.capitalize().replace(\"_\", \" - \"), np.mean(r2), np.std(r2), r2_t))\n",
    "    print(\"|         |Rouge - L| {:.2f} +/- {:.2f}  |   {:.2f}   |\".format(np.mean(rL), np.std(rL), rL_t))"
   ]
  },
  {
   "cell_type": "markdown",
   "metadata": {},
   "source": [
    "## Conclusion\n",
    "\n",
    "It is obviously can be seen that calculating tf-idf scores is useless (it is even slightly worse than simple averaging) for words in sentences, as we take each article as different corpus and each sentence as document in the corpus. But, increasing number $k$ (parameter of $k$-means) has positive effect on summarization, which is expected because number of sentences in gold summaries is higher than square root of $N$ where $N$ is the number of sentence in the article. Hence $\\frac{N}{2}$ performs better than $\\sqrt{N}$. \n",
    "\n",
    "For the best model which uses concatenation of minimum values of word vectors in sentence and maximum values of word vectors in sentence as sentence representation vector. I have got the idea from word2vec presentation which is presented in the class. As stated in the presentation, getting better results is interesting with this approach. In my understanding, taking maximum values of word vectors provides strongly represented features of words in a sentence and minimum values of word vectors provides weakly represented features. So, concatenation of these vectors gives us better representation of sentence. In addition to that, dimension is higher than tf-idf weighted model and simple averaged model. That may result more separable sentence vectors and more accurate clusters"
   ]
  }
 ],
 "metadata": {
  "kernelspec": {
   "display_name": "Python 3",
   "language": "python",
   "name": "python3"
  },
  "language_info": {
   "codemirror_mode": {
    "name": "ipython",
    "version": 3
   },
   "file_extension": ".py",
   "mimetype": "text/x-python",
   "name": "python",
   "nbconvert_exporter": "python",
   "pygments_lexer": "ipython3",
   "version": "3.7.3"
  },
  "toc": {
   "base_numbering": 1,
   "nav_menu": {},
   "number_sections": true,
   "sideBar": true,
   "skip_h1_title": false,
   "title_cell": "Table of Contents",
   "title_sidebar": "Contents",
   "toc_cell": false,
   "toc_position": {},
   "toc_section_display": true,
   "toc_window_display": true
  }
 },
 "nbformat": 4,
 "nbformat_minor": 2
}
